{
 "cells": [
  {
   "cell_type": "markdown",
   "metadata": {},
   "source": [
    "### Feature Selection\n",
    "\n",
    "- Filtering 방법\n",
    "    => 타겟/종속변수에 관련성이 높은 피쳐/독립변수 선택\n",
    "    => 상관계수\n",
    "    => 몇 개? k개 -> 점진적으로 늘려가기\n",
    "\n",
    "- Wrapper 방법\n",
    "    => Forward 방식 : 기준에 따라 K개 피쳐를 선택 -> 성능 평가 -> 피쳐 추가\n",
    "\n",
    "    => Backward 방식 : 모든 피쳐 선택 -> 성능 평가 -> 피쳐 제거\n",
    "    \n",
    "    => Step-Wide 방식 : Forward + Backward\n",
    "    \n",
    "\n",
    "- Embedding 방법\n",
    "    => 모델 내부에 피쳐 선택 기능 포함된 것 -> Important Feature, 주성분 분석(PCA)"
   ]
  },
  {
   "cell_type": "markdown",
   "metadata": {},
   "source": [
    "#### Tuning -> 모델 수정\n",
    "\n",
    "- 모델의 성능 높이기\n",
    "    => scikit-learn에서 모델 인스턴스의 score 메서드\n",
    "\n",
    "    => 모델을 평가기준이 되는 성능지표 -> 분류/회귀에 따라 다름\n",
    "\n",
    "- 모델 성능에 영향을 미치는 매개변수 -> Hyper-parameter\n",
    "    => KNN -> K 개수\n",
    "\n",
    "    => LinearRegression -> 가중치, 기울기 초기화 값, 규제\n",
    "\n",
    "    => 학습 알고리즘마다 Hyper-parameter가 다름!\n",
    "\n",
    "- 피쳐 제어\n",
    "    => 피쳐 개수 조절 \n",
    "    \n",
    "    => 피쳐 추출/압축"
   ]
  },
  {
   "cell_type": "markdown",
   "metadata": {},
   "source": [
    "#### AutoML \n",
    "- 유료 머신러닝 서비스"
   ]
  }
 ],
 "metadata": {
  "kernelspec": {
   "display_name": "ML_38",
   "language": "python",
   "name": "python3"
  },
  "language_info": {
   "name": "python",
   "version": "3.8.19"
  }
 },
 "nbformat": 4,
 "nbformat_minor": 2
}
