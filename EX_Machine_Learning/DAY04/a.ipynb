{
 "cells": [
  {
   "cell_type": "markdown",
   "metadata": {},
   "source": [
    "### ML Process\n",
    "\n",
    "(1) 데이터 준비 => 데이터 로딩, 데이터 확인(실제 데이터 확인 및 탐색)\n",
    "\n",
    "(2) 데이터 전처리\n",
    "    => 정제(결측치, 중복값, 이상치, 컬럼 고유값)\n",
    "\n",
    "    => 피쳐에 대한 처리(인코딩, 스케일링,...)\n",
    "\n",
    "    => 피쳐 선택, 가공\n",
    "\n",
    "    => 피쳐와 타겟(독립변수와 종속변수)\n",
    "\n",
    "(3) 학습 준비 => 데이터셋(train, validation, test) \n",
    "                -> 데이터 부족 및 일반화 위해서 train, test 데이터셋 분리\n",
    "\n",
    "(4) 학습 진행\n",
    "    => 교차 검증으로 학습 진행 : train 데이터셋 사용\n",
    "\n",
    "(5) 모델 평가\n",
    "    => test 데이터셋으로 평가\n",
    "    => 평가기준 : 분류와 회귀가 다름!\n",
    "\n",
    "### 모델의 성능을 높이는 작업 즉, 튜닝 진행\n",
    "- Hyper parameter 제어 : 모델 인스턴스 생성 시 매개변수로 설정\n",
    "- 새로운 모델로 학습 진행 => 평가\n",
    "\n"
   ]
  }
 ],
 "metadata": {
  "kernelspec": {
   "display_name": "ML_38",
   "language": "python",
   "name": "python3"
  },
  "language_info": {
   "name": "python",
   "version": "3.8.19"
  }
 },
 "nbformat": 4,
 "nbformat_minor": 2
}
