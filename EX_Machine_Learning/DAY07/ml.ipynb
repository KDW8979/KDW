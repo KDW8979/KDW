{
 "cells": [
  {
   "cell_type": "markdown",
   "metadata": {},
   "source": [
    "##### 머신러닝 프로세스\n",
    "\n",
    "전처리 방법\n",
    "A, B, C\n",
    "\n",
    "모델 - 회귀 관련 모델 5개\n",
    "전처리 A => 모델 5개 ==> 성능지표\n",
    "전처리 B => 모델 5개 ==> 성능지표\n",
    "전처리 C => 모델 5개 ==> 성능지표\n",
    "\n",
    "튜닝\n",
    "최종 전처리 방법 + 모델 결정\n",
    "\n",
    "[일반화가 잘 된 성능 좋은 모델]"
   ]
  }
 ],
 "metadata": {
  "language_info": {
   "name": "python"
  }
 },
 "nbformat": 4,
 "nbformat_minor": 2
}
