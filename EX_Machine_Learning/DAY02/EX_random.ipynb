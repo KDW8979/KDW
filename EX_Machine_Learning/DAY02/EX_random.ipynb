{
 "cells": [
  {
   "cell_type": "markdown",
   "metadata": {},
   "source": [
    "#### 임의의 숫자 즉, 난수 추출\n",
    "- random 모듈 존재\n",
    "- 0.0 ~ 1.0 실수 추출\n",
    "- n ~ m 정수 추출\n",
    "- random값 고정 ==> seed 기능"
   ]
  },
  {
   "cell_type": "code",
   "execution_count": 1,
   "metadata": {},
   "outputs": [],
   "source": [
    "import random"
   ]
  },
  {
   "cell_type": "code",
   "execution_count": 6,
   "metadata": {},
   "outputs": [
    {
     "name": "stdout",
     "output_type": "stream",
     "text": [
      "9\n",
      "32\n",
      "36\n",
      "2\n",
      "43\n",
      "11\n",
      "25\n"
     ]
    }
   ],
   "source": [
    "for _ in range(7):\n",
    "    print(random.randint(1,46))"
   ]
  },
  {
   "cell_type": "code",
   "execution_count": 7,
   "metadata": {},
   "outputs": [
    {
     "name": "stdout",
     "output_type": "stream",
     "text": [
      "0.16814064062740464\n",
      "0.3956206788389529\n",
      "0.8269316191595069\n",
      "0.14324997472329615\n",
      "0.861318937515404\n",
      "0.0769723563923631\n",
      "0.28708774444299356\n",
      "0.10318436901200545\n",
      "0.2654748524287499\n",
      "0.6957064318665982\n"
     ]
    }
   ],
   "source": [
    "# 실수 임의의 수 추출\n",
    "for _ in range(10):\n",
    "    print(random.random())"
   ]
  },
  {
   "cell_type": "code",
   "execution_count": 11,
   "metadata": {},
   "outputs": [
    {
     "name": "stdout",
     "output_type": "stream",
     "text": [
      "0.5714025946899135\n",
      "0.4288890546751146\n",
      "0.5780913011344704\n",
      "0.20609823213950174\n",
      "0.81332125135732\n",
      "0.8235888725334455\n",
      "0.6534725339011758\n",
      "0.16022955651881965\n",
      "0.5206693596399246\n",
      "0.32777281162209315\n"
     ]
    }
   ],
   "source": [
    "random.seed(10)\n",
    "for _ in range(10):\n",
    "    print(random.random())"
   ]
  },
  {
   "cell_type": "code",
   "execution_count": 12,
   "metadata": {},
   "outputs": [],
   "source": [
    "X=[[10],[3],[9],[5],[8],\n",
    "   [7],[12],[67],[91],[45],\n",
    "   [2],[17]]\n",
    "\n",
    "y=[1,2,3,4,5,6,7,8,9,10,11,12]"
   ]
  },
  {
   "cell_type": "code",
   "execution_count": 13,
   "metadata": {},
   "outputs": [],
   "source": [
    "from sklearn.model_selection import train_test_split"
   ]
  },
  {
   "cell_type": "code",
   "execution_count": 25,
   "metadata": {},
   "outputs": [
    {
     "name": "stdout",
     "output_type": "stream",
     "text": [
      "X : [[10], [3], [9], [5], [8], [7], [12], [67], [91], [45], [2], [17]]\n",
      "X_train : [[10], [3], [9], [5], [8], [7], [12], [67], [91]]\n",
      "X_test : [[45], [2], [17]]\n"
     ]
    }
   ],
   "source": [
    "#### 섞지 않고 학습용/테스트용 데이터셋 분리\n",
    "X_train, X_test, y_train, y_test = train_test_split(X,y, shuffle=False)\n",
    "\n",
    "print(f'X : {X}')\n",
    "print(f'X_train : {X_train}')\n",
    "print(f'X_test : {X_test}')"
   ]
  },
  {
   "cell_type": "code",
   "execution_count": 26,
   "metadata": {},
   "outputs": [
    {
     "name": "stdout",
     "output_type": "stream",
     "text": [
      "X : [[10], [3], [9], [5], [8], [7], [12], [67], [91], [45], [2], [17]]\n",
      "X_train : [[7], [17], [91], [2], [5], [3], [10], [8], [45]]\n",
      "X_test : [[9], [12], [67]]\n"
     ]
    }
   ],
   "source": [
    "#### 섞어서 학습용/테스트용 데이터셋 분리\n",
    "#### random에서 seed 설정 역할 매개변수 => random_state\n",
    "X_train, X_test, y_train, y_test = train_test_split(X,y, random_state=10)\n",
    "\n",
    "print(f'X : {X}')\n",
    "print(f'X_train : {X_train}')\n",
    "print(f'X_test : {X_test}')"
   ]
  },
  {
   "cell_type": "code",
   "execution_count": null,
   "metadata": {},
   "outputs": [],
   "source": []
  }
 ],
 "metadata": {
  "kernelspec": {
   "display_name": "ML_38",
   "language": "python",
   "name": "python3"
  },
  "language_info": {
   "codemirror_mode": {
    "name": "ipython",
    "version": 3
   },
   "file_extension": ".py",
   "mimetype": "text/x-python",
   "name": "python",
   "nbconvert_exporter": "python",
   "pygments_lexer": "ipython3",
   "version": "3.8.19"
  }
 },
 "nbformat": 4,
 "nbformat_minor": 2
}
