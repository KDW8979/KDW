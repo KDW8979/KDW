{
 "cells": [
  {
   "cell_type": "markdown",
   "metadata": {},
   "source": [
    "### 파라미터\n",
    "- 모델 파라미터\n",
    "    : fit() 학습 진행후 설정되는 파라미터\n",
    "    : 모델.파라미터명_\n",
    "\n",
    "- 하이퍼파라미터\n",
    "    : 모델 인스턴스 생성시 매개변수\n",
    "    : 모델 인스턴스 생성할 때 개발자가 값을 설정\n",
    "    : 모델 성능에 영향 미침!!!\n",
    "\n",
    "- 튜닝\n",
    "    : 모델 성능을 높이는 작업\n",
    "    : 즉, 모델의 하이퍼파라미터의 값을 조정해서 성능을 올리기"
   ]
  },
  {
   "cell_type": "markdown",
   "metadata": {},
   "source": [
    "좋은 모델\n",
    "- 일반화가 잘 된 모델\n",
    "- 모델 복잡도 -> 간소한 모델(피쳐 수가 간소한 것)"
   ]
  },
  {
   "cell_type": "markdown",
   "metadata": {},
   "source": [
    "#### OvR / OvA (One vs Rest/ One vs All) 분류\n",
    "\n",
    "- [0,1,2,3,4] 5개 분류 -> 2진 분류기 5개\n",
    "\n",
    "* 0 -> 0 vs [1,2,3,4] -> 2진 분류 -> 0일 확률\n",
    "* 1 -> 1 vs [0,2,3,4] -> 2진 분류 -> 1일 확률\n",
    "* 2 -> 2 vs [0,1,3,4] -> 2진 분류 -> 2일 확률\n",
    "* 3 -> 3 vs [0,1,2,4] -> 2진 분류 -> 3일 확률\n",
    "* 4 -> 4 vs [0,1,2,3] -> 2진 분류 -> 4일 확률"
   ]
  },
  {
   "cell_type": "markdown",
   "metadata": {},
   "source": [
    "#### OvO (One vs One) 분류\n",
    "- [0,1,2,3,4] 5개 분류 => 5*(5-1)/2 = 10개\n",
    "\n",
    "* 0 -> 0 vs 0   (0 vs 1)  (0 vs 2)  (0 vs 3)  (0 vs 4)\n",
    "* 1 -> 1 vs 0   1 vs 1  (1 vs 2)  (1 vs 3)  (1 vs 4)\n",
    "* 2 -> 2 vs 0   2 vs 1  2 vs 2  (2 vs 3)  (2 vs 4)\n",
    "* 3 -> 3 vs 0   3 vs 1  3 vs 2  3 vs 3  (3 vs 4)\n",
    "* 4 -> 4 vs 0   4 vs 1  4 vs 2  4 vs 3  4 vs 4"
   ]
  },
  {
   "cell_type": "markdown",
   "metadata": {},
   "source": []
  }
 ],
 "metadata": {
  "kernelspec": {
   "display_name": "ML_38",
   "language": "python",
   "name": "python3"
  },
  "language_info": {
   "name": "python",
   "version": "3.8.19"
  }
 },
 "nbformat": 4,
 "nbformat_minor": 2
}
