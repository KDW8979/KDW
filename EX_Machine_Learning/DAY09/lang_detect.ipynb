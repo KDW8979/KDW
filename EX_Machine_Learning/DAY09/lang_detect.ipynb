{
 "cells": [
  {
   "cell_type": "markdown",
   "metadata": {},
   "source": [
    "##### 알파벳 기반 언어 식별 모델\n",
    "- 데이터셋 : lang.zip 사용해서 생성 -> csv, json, .....\n",
    "- 학습방법 : 지도학습 > 분류 - 다중분류\n",
    "- 알고리즘 : 다양하게\n"
   ]
  },
  {
   "cell_type": "markdown",
   "metadata": {},
   "source": [
    "[1] 모듈 로딩 및 데이터 준비"
   ]
  },
  {
   "cell_type": "code",
   "execution_count": 1,
   "metadata": {},
   "outputs": [],
   "source": [
    "import pandas as pd\n",
    "import os\n",
    "from collections import Counter"
   ]
  },
  {
   "cell_type": "code",
   "execution_count": 2,
   "metadata": {},
   "outputs": [],
   "source": [
    "# 데이터 파일\n",
    "TRAIN_PATH='../data/lang/train/'\n",
    "TEST_PATH='../data/lang/test/'\n",
    "\n",
    "TRAIN_CSV='../data/lang_train.csv'\n",
    "TEST_CSV='./data/lang_test.csv'"
   ]
  },
  {
   "cell_type": "code",
   "execution_count": 3,
   "metadata": {},
   "outputs": [
    {
     "name": "stdout",
     "output_type": "stream",
     "text": [
      "[File Data] \n",
      "en,370,201,484,121,349,340,356,357,92,72,412,212,119,282,59,247,88,210,45,76,8,65,25,3,2en,370,201,484,121,349,340,356,357,92,72,412,212,119,282,59,247,88,210,45,76,8,65,25,3,2\n",
      "en,370,201,484,121,349,340,356,357,92,72,412,212,119,282,59,247,88,210,45,76,8,65,25,3,2\n",
      "en,370,201,484,121,349,340,356,357,92,72,412,212,119,282,59,247,88,210,45,76,8,65,25,3,2\n",
      "en,370,201,484,121,349,340,356,357,92,72,412,212,119,282,59,247,88,210,45,76,8,65,25,3,2\n",
      "en,370,201,484,121,349,340,356,357,92,72,412,212,119,282,59,247,88,210,45,76,8,65,25,3,2\n",
      "en,370,201,484,121,349,340,356,357,92,72,412,212,119,282,59,247,88,210,45,76,8,65,25,3,2\n",
      "en,7,7,7,175,42,35,28,91,56,49,35,28,42,21\n",
      "en,370,201,484,121,349,340,356,357,92,72,412,212,119,282,59,247,88,210,45,76,8,65,25,3,2\n",
      "\n"
     ]
    }
   ],
   "source": [
    "# 파일 읽기 => open() -> read(), readline(), readlines() -> close()\n",
    "#          => with open() as 구문\n",
    "if not os.path.exists(TRAIN_CSV):\n",
    "    print(f'{TRAIN_CSV} 파일이 없습니다.')\n",
    "else:\n",
    "    with open(TRAIN_CSV, mode='r') as f:\n",
    "       alldata = f.read()\n",
    "       print(f'[File Data] {alldata}')\n"
   ]
  },
  {
   "cell_type": "code",
   "execution_count": 4,
   "metadata": {},
   "outputs": [],
   "source": [
    "# 폴더 안에 파일 및 폴더를 가져오기\n",
    "def make_dataset(dir_path, file_path):\n",
    "    files=os.listdir(dir_path)\n",
    "\n",
    "    for file in files:\n",
    "        label=file[:2]\n",
    "        \n",
    "\n",
    "        with open(dir_path, mode='r')as f:\n",
    "            alldata=f.read()\n",
    "\n",
    "        # 대소문자 통일\n",
    "        alldata=alldata.lower()\n",
    "        \n",
    "\n",
    "        # 알파벳 아닌 문자들 제거\n",
    "        alldata=alldata.replace('\\n', '')\n",
    "        print(f'alldata => {len(alldata)}')\n",
    "\n",
    "        for ch in alldata:\n",
    "            if ord('a') > ord(ch) or ord(ch) > ord('z'):\n",
    "                alldata=alldata.replace(ch, '')\n",
    "        print(f'alldata => {len(alldata)}')\n",
    "\n",
    "        # a ~ z 개수 카운팅\n",
    "        count_data=Counter(alldata)\n",
    "        print('count_data => ', count_data)\n",
    "        with open(file_path, mode='a') as f:\n",
    "            cc=dict(Counter(alldata))\n",
    "            a_z=[]\n",
    "        for _ in range(ord('a'), ord('z')+1):\n",
    "            cnt=alldata.count(chr(_))\n",
    "            a_z.append(str(cnt/len(alldata)))\n",
    "\n",
    "            f.write(label+',')\n",
    "            f.write(','.join([str(value) for value in cc.values()])+'\\n')    \n",
    "        "
   ]
  },
  {
   "cell_type": "code",
   "execution_count": 5,
   "metadata": {},
   "outputs": [],
   "source": [
    "# 파일 쓰기 => mode = 'w' : 파일이 존재하면 덮어쓰기, 파일이 없으면 생성 후 쓰기\n",
    "#          => mode = 'a' : 파일이 존재하면 추가하기, 파일이 없으면 생성 후 쓰기\n",
    "with open('../data/lang_train.csv', mode='r') as f:\n",
    "    with open('backup.csv', mode='w') as wf:\n",
    "        data=f.read()\n",
    "        wf.write(data)"
   ]
  },
  {
   "cell_type": "code",
   "execution_count": 6,
   "metadata": {},
   "outputs": [
    {
     "data": {
      "text/plain": [
       "dict_items([('\\n', 9), ('e', 9), ('n', 9), (',', 214), ('3', 50), ('7', 44), ('0', 32), ('2', 109), ('1', 67), ('4', 59), ('8', 42), ('9', 34), ('5', 52), ('6', 25)])"
      ]
     },
     "execution_count": 6,
     "metadata": {},
     "output_type": "execute_result"
    }
   ],
   "source": [
    "cc=dict(Counter(alldata))\n",
    "cc.items()"
   ]
  },
  {
   "cell_type": "code",
   "execution_count": 7,
   "metadata": {},
   "outputs": [
    {
     "data": {
      "text/plain": [
       "['0.0',\n",
       " '0.0',\n",
       " '0.0',\n",
       " '0.0',\n",
       " '0.011920529801324504',\n",
       " '0.0',\n",
       " '0.0',\n",
       " '0.0',\n",
       " '0.0',\n",
       " '0.0',\n",
       " '0.0',\n",
       " '0.0',\n",
       " '0.0',\n",
       " '0.011920529801324504',\n",
       " '0.0',\n",
       " '0.0',\n",
       " '0.0',\n",
       " '0.0',\n",
       " '0.0',\n",
       " '0.0',\n",
       " '0.0',\n",
       " '0.0',\n",
       " '0.0',\n",
       " '0.0',\n",
       " '0.0',\n",
       " '0.0']"
      ]
     },
     "execution_count": 7,
     "metadata": {},
     "output_type": "execute_result"
    }
   ],
   "source": [
    "a_z=[]\n",
    "for _ in range(ord('a'), ord('z')+1):\n",
    "    # print(f'[{chr(_)}] {alldata.count(chr(_))}')\n",
    "    cnt=alldata.count(chr(_))\n",
    "    a_z.append(str(cnt/len(alldata)))\n",
    "\n",
    "a_z"
   ]
  },
  {
   "cell_type": "code",
   "execution_count": 8,
   "metadata": {},
   "outputs": [
    {
     "ename": "PermissionError",
     "evalue": "[Errno 13] Permission denied: '../data/lang/train/'",
     "output_type": "error",
     "traceback": [
      "\u001b[1;31m---------------------------------------------------------------------------\u001b[0m",
      "\u001b[1;31mPermissionError\u001b[0m                           Traceback (most recent call last)",
      "Cell \u001b[1;32mIn[8], line 1\u001b[0m\n\u001b[1;32m----> 1\u001b[0m \u001b[43mmake_dataset\u001b[49m\u001b[43m(\u001b[49m\u001b[43mTRAIN_PATH\u001b[49m\u001b[43m,\u001b[49m\u001b[43m \u001b[49m\u001b[43mTRAIN_CSV\u001b[49m\u001b[43m)\u001b[49m\n\u001b[0;32m      2\u001b[0m make_dataset(TEST_PATH, TEST_CSV)\n",
      "Cell \u001b[1;32mIn[4], line 9\u001b[0m, in \u001b[0;36mmake_dataset\u001b[1;34m(dir_path, file_path)\u001b[0m\n\u001b[0;32m      5\u001b[0m \u001b[38;5;28;01mfor\u001b[39;00m file \u001b[38;5;129;01min\u001b[39;00m files:\n\u001b[0;32m      6\u001b[0m     label\u001b[38;5;241m=\u001b[39mfile[:\u001b[38;5;241m2\u001b[39m]\n\u001b[1;32m----> 9\u001b[0m     \u001b[38;5;28;01mwith\u001b[39;00m \u001b[38;5;28;43mopen\u001b[39;49m\u001b[43m(\u001b[49m\u001b[43mdir_path\u001b[49m\u001b[43m,\u001b[49m\u001b[43m \u001b[49m\u001b[43mmode\u001b[49m\u001b[38;5;241;43m=\u001b[39;49m\u001b[38;5;124;43m'\u001b[39;49m\u001b[38;5;124;43mr\u001b[39;49m\u001b[38;5;124;43m'\u001b[39;49m\u001b[43m)\u001b[49m\u001b[38;5;28;01mas\u001b[39;00m f:\n\u001b[0;32m     10\u001b[0m         alldata\u001b[38;5;241m=\u001b[39mf\u001b[38;5;241m.\u001b[39mread()\n\u001b[0;32m     12\u001b[0m     \u001b[38;5;66;03m# 대소문자 통일\u001b[39;00m\n",
      "File \u001b[1;32mc:\\Users\\kdp\\anaconda3\\envs\\ML_38\\lib\\site-packages\\IPython\\core\\interactiveshell.py:284\u001b[0m, in \u001b[0;36m_modified_open\u001b[1;34m(file, *args, **kwargs)\u001b[0m\n\u001b[0;32m    277\u001b[0m \u001b[38;5;28;01mif\u001b[39;00m file \u001b[38;5;129;01min\u001b[39;00m {\u001b[38;5;241m0\u001b[39m, \u001b[38;5;241m1\u001b[39m, \u001b[38;5;241m2\u001b[39m}:\n\u001b[0;32m    278\u001b[0m     \u001b[38;5;28;01mraise\u001b[39;00m \u001b[38;5;167;01mValueError\u001b[39;00m(\n\u001b[0;32m    279\u001b[0m         \u001b[38;5;124mf\u001b[39m\u001b[38;5;124m\"\u001b[39m\u001b[38;5;124mIPython won\u001b[39m\u001b[38;5;124m'\u001b[39m\u001b[38;5;124mt let you open fd=\u001b[39m\u001b[38;5;132;01m{\u001b[39;00mfile\u001b[38;5;132;01m}\u001b[39;00m\u001b[38;5;124m by default \u001b[39m\u001b[38;5;124m\"\u001b[39m\n\u001b[0;32m    280\u001b[0m         \u001b[38;5;124m\"\u001b[39m\u001b[38;5;124mas it is likely to crash IPython. If you know what you are doing, \u001b[39m\u001b[38;5;124m\"\u001b[39m\n\u001b[0;32m    281\u001b[0m         \u001b[38;5;124m\"\u001b[39m\u001b[38;5;124myou can use builtins\u001b[39m\u001b[38;5;124m'\u001b[39m\u001b[38;5;124m open.\u001b[39m\u001b[38;5;124m\"\u001b[39m\n\u001b[0;32m    282\u001b[0m     )\n\u001b[1;32m--> 284\u001b[0m \u001b[38;5;28;01mreturn\u001b[39;00m \u001b[43mio_open\u001b[49m\u001b[43m(\u001b[49m\u001b[43mfile\u001b[49m\u001b[43m,\u001b[49m\u001b[43m \u001b[49m\u001b[38;5;241;43m*\u001b[39;49m\u001b[43margs\u001b[49m\u001b[43m,\u001b[49m\u001b[43m \u001b[49m\u001b[38;5;241;43m*\u001b[39;49m\u001b[38;5;241;43m*\u001b[39;49m\u001b[43mkwargs\u001b[49m\u001b[43m)\u001b[49m\n",
      "\u001b[1;31mPermissionError\u001b[0m: [Errno 13] Permission denied: '../data/lang/train/'"
     ]
    }
   ],
   "source": [
    "make_dataset(TRAIN_PATH, TRAIN_CSV)\n",
    "make_dataset(TEST_PATH, TEST_CSV)"
   ]
  },
  {
   "cell_type": "code",
   "execution_count": null,
   "metadata": {},
   "outputs": [],
   "source": [
    "from sklearn.metrics import classification_report\n"
   ]
  }
 ],
 "metadata": {
  "kernelspec": {
   "display_name": "ML_38",
   "language": "python",
   "name": "python3"
  },
  "language_info": {
   "codemirror_mode": {
    "name": "ipython",
    "version": 3
   },
   "file_extension": ".py",
   "mimetype": "text/x-python",
   "name": "python",
   "nbconvert_exporter": "python",
   "pygments_lexer": "ipython3",
   "version": "3.8.19"
  }
 },
 "nbformat": 4,
 "nbformat_minor": 2
}
