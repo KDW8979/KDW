{
 "cells": [
  {
   "cell_type": "markdown",
   "metadata": {},
   "source": [
    "### DT\n",
    "C3.0\n",
    "C4.5\n",
    "C5.0\n",
    "CART 범주형, 수치형 ==> 모두 처리 회귀/분류\n",
    "    skearn=> 범주형 X ===> Encoding\n",
    "    * LabelEncoder => 0,1, ...   1D   : y, target\n",
    "    * OridnalEncoder => 0,1, ... 2D\n",
    "    * OneHotEncoder => 1이 하나인 패턴 2D\n",
    "\n",
    "스케일링 => minmax ---- sklearn : minmax"
   ]
  },
  {
   "cell_type": "markdown",
   "metadata": {},
   "source": [
    "그 동안 배운 모델\n",
    "KNN\n",
    "Linear-model : LinearRegression => 다중(feature), 다항(곡선), 로지스틱\n",
    "                                => 과대적합 => 모델 직접 제어 즉, 규제 alpha 매개변수 0~강하게\n",
    "                                               릿지(영향력 낮은 피쳐의 coef_ 0에 가깝게)\n",
    "                                               라쏘(영향력 낮은 피쳐의 coef_ 0으로)\n",
    "                                => 분류 ==> 선형식 결과 ==> 확률값으로 => 로지스틱회귀\n",
    "                                            OvR/OvA : 2진분류기를 여러개 => 5개 \n",
    "                                            OvO : 2진분류기를 여러개 => 클래스수 * ((클래스수-1)/2)\n",
    "\n",
    "Tree-model  : DecisionTree (CART) => 회귀/분류 : 범주형/수치형\n",
    "              * 하이퍼파라미터 많음 \n",
    "                \n",
    "Ensemble-model : Voting, Bagging -> RandomForestC/R"
   ]
  },
  {
   "cell_type": "markdown",
   "metadata": {},
   "source": []
  }
 ],
 "metadata": {
  "kernelspec": {
   "display_name": "ML_38",
   "language": "python",
   "name": "python3"
  },
  "language_info": {
   "name": "python",
   "version": "3.8.19"
  }
 },
 "nbformat": 4,
 "nbformat_minor": 2
}
