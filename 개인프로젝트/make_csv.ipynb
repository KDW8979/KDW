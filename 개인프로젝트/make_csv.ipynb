{
 "cells": [
  {
   "cell_type": "code",
   "execution_count": 33,
   "metadata": {},
   "outputs": [],
   "source": [
    "import pandas as pd\n",
    "\n",
    "# 대사 단위로 txt 파일 읽기\n",
    "with open(r\"C:\\Users\\kdp\\Desktop\\Work_권도운\\개인프로젝트\\texts\\Twelfth Night.txt\", \"r\", encoding=\"utf-8\") as file:\n",
    "    lines = file.readlines() # 대사 단위로 분리하여 리스트에 저장\n",
    "\n",
    "# 빈 줄 제거\n",
    "lines = [line.strip() for line in lines if line.strip()]\n",
    "\n",
    "# DataFrame 생성\n",
    "df = pd.DataFrame(lines, columns=[\"Texts\"])  \n",
    "\n",
    "\n",
    "# CSV 파일로 저장\n",
    "df.to_csv(\"Twelfth Night.csv\", index=False, encoding=\"utf-8-sig\")\n"
   ]
  },
  {
   "cell_type": "code",
   "execution_count": null,
   "metadata": {},
   "outputs": [],
   "source": []
  }
 ],
 "metadata": {
  "kernelspec": {
   "display_name": "TORCH_TEXT",
   "language": "python",
   "name": "python3"
  },
  "language_info": {
   "codemirror_mode": {
    "name": "ipython",
    "version": 3
   },
   "file_extension": ".py",
   "mimetype": "text/x-python",
   "name": "python",
   "nbconvert_exporter": "python",
   "pygments_lexer": "ipython3",
   "version": "3.8.19"
  }
 },
 "nbformat": 4,
 "nbformat_minor": 2
}
