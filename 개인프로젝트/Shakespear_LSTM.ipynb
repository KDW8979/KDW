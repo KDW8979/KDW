{
 "cells": [
  {
   "cell_type": "code",
   "execution_count": 28,
   "metadata": {},
   "outputs": [],
   "source": [
    "import torch\n",
    "import torch.nn as nn\n",
    "import torch.optim as optim\n",
    "import pandas as pd\n",
    "from sklearn.model_selection import train_test_split\n",
    "from sklearn.metrics import accuracy_score\n",
    "from torch.utils.data import Dataset, DataLoader\n",
    "from torch.nn.utils.rnn import pad_sequence\n",
    "from collections import Counter\n",
    "from nltk.corpus import stopwords\n",
    "import nltk\n",
    "import string\n",
    "from sklearn.feature_extraction.text import TfidfVectorizer"
   ]
  },
  {
   "cell_type": "code",
   "execution_count": 29,
   "metadata": {},
   "outputs": [
    {
     "name": "stderr",
     "output_type": "stream",
     "text": [
      "[nltk_data] Downloading package stopwords to\n",
      "[nltk_data]     C:\\Users\\kdp\\AppData\\Roaming\\nltk_data...\n",
      "[nltk_data]   Package stopwords is already up-to-date!\n"
     ]
    }
   ],
   "source": [
    "# 파일 경로 설정\n",
    "files_comedy = [\n",
    "    r\"C:\\Users\\kdp\\Desktop\\Work_권도운\\개인프로젝트\\A Midsummer Nights Dream.csv\",\n",
    "    r\"C:\\Users\\kdp\\Desktop\\Work_권도운\\개인프로젝트\\As You Like It.csv\",\n",
    "    r\"C:\\Users\\kdp\\Desktop\\Work_권도운\\개인프로젝트\\The Merchant of Venice.csv\",\n",
    "    r\"C:\\Users\\kdp\\Desktop\\Work_권도운\\개인프로젝트\\The Taming of the Shrew.csv\",\n",
    "    r\"C:\\Users\\kdp\\Desktop\\Work_권도운\\개인프로젝트\\Twelfth Night.csv\"\n",
    "]\n",
    "\n",
    "files_tragedy = [\n",
    "    r\"C:\\Users\\kdp\\Desktop\\Work_권도운\\개인프로젝트\\Hamlet.csv\",\n",
    "    r\"C:\\Users\\kdp\\Desktop\\Work_권도운\\개인프로젝트\\Macbeth.csv\",\n",
    "    r\"C:\\Users\\kdp\\Desktop\\Work_권도운\\개인프로젝트\\Othello.csv\",\n",
    "    r\"C:\\Users\\kdp\\Desktop\\Work_권도운\\개인프로젝트\\Romeo and Juliet.csv\",\n",
    "    r\"C:\\Users\\kdp\\Desktop\\Work_권도운\\개인프로젝트\\The Tragedy of King Lear.csv\"\n",
    "]\n",
    "\n",
    "# 데이터를 저장할 리스트 초기화\n",
    "texts = []\n",
    "labels = []\n",
    "\n",
    "nltk.download('stopwords')\n",
    "\n",
    "custom_stopwords=r\"C:\\Users\\kdp\\Desktop\\Work_권도운\\개인프로젝트\\STOPWORDS.txt\"\n",
    "with open(custom_stopwords, \"r\", encoding=\"utf-8\") as f:\n",
    "    custom_stopwords = [line.strip().lower() for line in f.read().split(\",\")]\n",
    "\n",
    "# NLTK 기본 Stopwords\n",
    "nltk_stopwords = stopwords.words(\"english\")\n",
    "\n",
    "# 통합 Stopwords 리스트\n",
    "all_stopwords = set(nltk_stopwords + custom_stopwords)\n"
   ]
  },
  {
   "cell_type": "code",
   "execution_count": 30,
   "metadata": {},
   "outputs": [],
   "source": [
    "# 전처리하는 함수 정의\n",
    "def process_text(text):\n",
    "    # 소문자 변환\n",
    "    text = text.lower()\n",
    "    # 구두점 제거\n",
    "    text = text.translate(str.maketrans(\"\", \"\", string.punctuation))\n",
    "    # Stopwords 제거\n",
    "    words = text.split()\n",
    "    words = [word for word in words if word not in all_stopwords]\n",
    "    return \" \".join(words)\n"
   ]
  },
  {
   "cell_type": "code",
   "execution_count": 31,
   "metadata": {},
   "outputs": [
    {
     "data": {
      "text/html": [
       "<div>\n",
       "<style scoped>\n",
       "    .dataframe tbody tr th:only-of-type {\n",
       "        vertical-align: middle;\n",
       "    }\n",
       "\n",
       "    .dataframe tbody tr th {\n",
       "        vertical-align: top;\n",
       "    }\n",
       "\n",
       "    .dataframe thead th {\n",
       "        text-align: right;\n",
       "    }\n",
       "</style>\n",
       "<table border=\"1\" class=\"dataframe\">\n",
       "  <thead>\n",
       "    <tr style=\"text-align: right;\">\n",
       "      <th></th>\n",
       "      <th>text</th>\n",
       "      <th>label</th>\n",
       "    </tr>\n",
       "  </thead>\n",
       "  <tbody>\n",
       "    <tr>\n",
       "      <th>0</th>\n",
       "      <td>﻿texts</td>\n",
       "      <td>0</td>\n",
       "    </tr>\n",
       "    <tr>\n",
       "      <th>1</th>\n",
       "      <td>room palace</td>\n",
       "      <td>0</td>\n",
       "    </tr>\n",
       "    <tr>\n",
       "      <th>2</th>\n",
       "      <td>fair nuptial hour</td>\n",
       "      <td>0</td>\n",
       "    </tr>\n",
       "    <tr>\n",
       "      <th>3</th>\n",
       "      <td>draws apace four happy days bring</td>\n",
       "      <td>0</td>\n",
       "    </tr>\n",
       "    <tr>\n",
       "      <th>4</th>\n",
       "      <td>another moon oh slow</td>\n",
       "      <td>0</td>\n",
       "    </tr>\n",
       "  </tbody>\n",
       "</table>\n",
       "</div>"
      ],
      "text/plain": [
       "                                text  label\n",
       "0                             ﻿texts      0\n",
       "1                        room palace      0\n",
       "2                  fair nuptial hour      0\n",
       "3  draws apace four happy days bring      0\n",
       "4               another moon oh slow      0"
      ]
     },
     "execution_count": 31,
     "metadata": {},
     "output_type": "execute_result"
    }
   ],
   "source": [
    "# 희극과 비극 데이터를 불러와서 라벨링\n",
    "for file_path in files_comedy:\n",
    "    with open(file_path, 'r', encoding='utf-8') as file:\n",
    "        for line in file:\n",
    "            line = line.strip()  # 공백 제거\n",
    "            if line:  # 빈 줄이 아닌 경우만 추가\n",
    "                cleaned_line = process_text(line)  # 텍스트 정리\n",
    "                if cleaned_line:  # Stopwords만 남은 텍스트 제거\n",
    "                    texts.append(cleaned_line)\n",
    "                    labels.append(0)  # 희극 : 0\n",
    "\n",
    "for file_path in files_tragedy:\n",
    "    with open(file_path, 'r', encoding='utf-8') as file:\n",
    "        for line in file:\n",
    "            line = line.strip()  # 공백 제거\n",
    "            if line:  # 빈 줄이 아닌 경우만 추가\n",
    "                cleaned_line = process_text(line)  # 텍스트 정리\n",
    "                if cleaned_line:  # Stopwords만 남은 텍스트 제거\n",
    "                    texts.append(cleaned_line)\n",
    "                    labels.append(1)  # 비극 : 1\n",
    "\n",
    "# 데이터프레임 생성\n",
    "df = pd.DataFrame({'text': texts, 'label': labels})\n",
    "  \n",
    "# Stopwords 제거 및 데이터 재정렬\n",
    "df = df[[\"text\", \"label\"]]  # 필요한 열만 유지\n",
    "# 결과 확인\n",
    "df.head()"
   ]
  },
  {
   "cell_type": "code",
   "execution_count": 32,
   "metadata": {},
   "outputs": [],
   "source": [
    "\n",
    "tfidf=TfidfVectorizer()\n",
    "X = tfidf.fit_transform(df['text'])\n",
    "\n",
    "X_train, X_test, y_train, y_test = train_test_split(X, labels, stratify=labels, test_size=0.2, random_state=42)\n",
    "X_train, X_val, y_train, y_val = train_test_split(X_train, y_train, stratify=y_train, test_size=0.2, random_state=42)\n",
    "\n",
    "# PyTorch 텐서로 변환\n",
    "X_train_tensor = torch.FloatTensor(X_train.toarray())\n",
    "X_test_tensor = torch.FloatTensor(X_test.toarray())\n",
    "y_train_tensor = torch.LongTensor(y_train)\n",
    "y_test_tensor = torch.LongTensor(y_test)\n",
    "x_v_tensor = torch.FloatTensor(X_val.toarray())\n",
    "y_v_tensor = torch.LongTensor(y_val)"
   ]
  },
  {
   "cell_type": "code",
   "execution_count": 33,
   "metadata": {},
   "outputs": [],
   "source": [
    "class LSTMClassifier(nn.Module):\n",
    "    def __init__(self, input_size, hidden_sizes, output_size, num_layers=1, dropout=0.2):\n",
    "\n",
    "        super(LSTMClassifier, self).__init__()\n",
    "        layers=[]\n",
    "        in_features=input_size\n",
    "\n",
    "        for hidden_size in hidden_sizes:\n",
    "            layers.append(nn.Linear(in_features, hidden_size))\n",
    "            layers.append(nn.ReLU())  # 활성화 함수로 ReLU 추가\n",
    "            in_features = hidden_size  # 다음 레이어의 입력 크기는 현재 레이어의 출력 크기\n",
    "\n",
    "        # Dropout과 마지막 출력층 추가\n",
    "        layers.append(nn.Dropout(0.3))  # Dropout 추가\n",
    "        layers.append(nn.Linear(in_features, output_size))\n",
    "\n",
    "        self.network = nn.Sequential(*layers) \n",
    "\n",
    "    def forward(self, x):\n",
    "        return self.network(x)\n"
   ]
  },
  {
   "cell_type": "code",
   "execution_count": null,
   "metadata": {},
   "outputs": [],
   "source": []
  }
 ],
 "metadata": {
  "kernelspec": {
   "display_name": "TORCH_TEXT",
   "language": "python",
   "name": "python3"
  },
  "language_info": {
   "codemirror_mode": {
    "name": "ipython",
    "version": 3
   },
   "file_extension": ".py",
   "mimetype": "text/x-python",
   "name": "python",
   "nbconvert_exporter": "python",
   "pygments_lexer": "ipython3",
   "version": "3.8.19"
  }
 },
 "nbformat": 4,
 "nbformat_minor": 2
}
