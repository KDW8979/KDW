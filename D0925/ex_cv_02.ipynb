{
 "cells": [
  {
   "cell_type": "markdown",
   "metadata": {},
   "source": [
    "#### Video 처리\n",
    "- cv2.VideoCapture(동영상 또는 카메라번호)함수"
   ]
  },
  {
   "cell_type": "code",
   "execution_count": 1,
   "metadata": {},
   "outputs": [],
   "source": [
    "# 모듈 로딩\n",
    "import cv2\n",
    "import numpy as np"
   ]
  },
  {
   "cell_type": "code",
   "execution_count": 2,
   "metadata": {},
   "outputs": [],
   "source": [
    "## 데이터 및 디바이스 설정\n",
    "DIR_PATH='../image/'\n",
    "\n",
    "CAM_DEVICE=0\n"
   ]
  },
  {
   "cell_type": "markdown",
   "metadata": {},
   "source": [
    "- [카메라 관련 영상 처리]"
   ]
  },
  {
   "cell_type": "code",
   "execution_count": 20,
   "metadata": {},
   "outputs": [
    {
     "name": "stdout",
     "output_type": "stream",
     "text": [
      "Wed Sep 25 10-22-28 2024\n",
      "2024 9 25 10 22 28\n"
     ]
    },
    {
     "data": {
      "text/plain": [
       "'24.09.25 10.22.28'"
      ]
     },
     "execution_count": 20,
     "metadata": {},
     "output_type": "execute_result"
    }
   ],
   "source": [
    "import time\n",
    "# time.ctime(), time.time(), time.strftime('%M_%D_%S')\n",
    "print(time.ctime().replace(':', '-'))\n",
    "\n",
    "# 현재날짜시간 정보 저장 인스턴스\n",
    "cur_time=time.localtime()\n",
    "print(cur_time.tm_year, cur_time.tm_mon, cur_time.tm_mday, cur_time.tm_hour, cur_time.tm_min, cur_time.tm_sec)\n",
    "\n",
    "time.strftime(\"%y.%m.%d %H.%M.%S\", cur_time)"
   ]
  },
  {
   "cell_type": "code",
   "execution_count": 21,
   "metadata": {},
   "outputs": [
    {
     "data": {
      "text/plain": [
       "'capture 24.09.25 10.22.28.jpg'"
      ]
     },
     "execution_count": 21,
     "metadata": {},
     "output_type": "execute_result"
    }
   ],
   "source": [
    "SAVE_FILE=f'capture {time.strftime(\"%y.%m.%d %H.%M.%S\", cur_time)}.jpg'\n",
    "SAVE_FILE"
   ]
  },
  {
   "cell_type": "code",
   "execution_count": 5,
   "metadata": {},
   "outputs": [
    {
     "name": "stdout",
     "output_type": "stream",
     "text": [
      "영상 재생 정지\n"
     ]
    }
   ],
   "source": [
    "# 카메라와 연결 여부 체크\n",
    "camera=cv2.VideoCapture(CAM_DEVICE)\n",
    "if camera.isOpened():\n",
    "    while True:\n",
    "        ret, img=camera.read()\n",
    "        if ret:\n",
    "            cv2.imshow(\"VIDEO\",img)\n",
    "            if cv2.waitKey(10) != -1:\n",
    "                print(\"영상 재생 정지\")\n",
    "                SAVE_FILE=f'capture {time.strftime(\"%y.%m.%d %H.%M.%S\", cur_time)}.jpg'\n",
    "                cv2.imwrite(SAVE_FILE, img)\n",
    "                cv2.destroyAllWindows()\n",
    "                break\n",
    "\n",
    "        else:\n",
    "            print(\"영상 읽기 실패\")\n",
    "            break\n",
    "        \n",
    "else:\n",
    "    print(\"카메라 연결 여부 체크 바랍니다.\")"
   ]
  },
  {
   "cell_type": "code",
   "execution_count": null,
   "metadata": {},
   "outputs": [],
   "source": []
  }
 ],
 "metadata": {
  "kernelspec": {
   "display_name": "TORCH_CV_38",
   "language": "python",
   "name": "python3"
  },
  "language_info": {
   "codemirror_mode": {
    "name": "ipython",
    "version": 3
   },
   "file_extension": ".py",
   "mimetype": "text/x-python",
   "name": "python",
   "nbconvert_exporter": "python",
   "pygments_lexer": "ipython3",
   "version": "3.8.19"
  }
 },
 "nbformat": 4,
 "nbformat_minor": 2
}
