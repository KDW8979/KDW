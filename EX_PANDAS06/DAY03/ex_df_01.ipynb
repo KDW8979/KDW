{
 "cells": [
  {
   "cell_type": "markdown",
   "metadata": {},
   "source": [
    "### 데이터 활용 방법 - 전치\n",
    "- 행과 열을 서로 바꾸는 것\n",
    "- 방법\n",
    "    (1) 메서드 : 변수명.transpose()\n",
    "    (2) 속성 : 변수명.T\n"
   ]
  },
  {
   "cell_type": "code",
   "execution_count": 1,
   "metadata": {},
   "outputs": [],
   "source": [
    "# [1] 모듈 로딩\n",
    "import pandas as pd"
   ]
  },
  {
   "cell_type": "code",
   "execution_count": 2,
   "metadata": {},
   "outputs": [],
   "source": [
    "# [2] 데이터 준비\n",
    "file_name='data.csv'"
   ]
  },
  {
   "cell_type": "code",
   "execution_count": 5,
   "metadata": {},
   "outputs": [],
   "source": [
    "# [3] csv ==> DataFrame 형태로 저장\n",
    "csvDF=pd.read_csv(file_name)"
   ]
  },
  {
   "cell_type": "code",
   "execution_count": 33,
   "metadata": {},
   "outputs": [
    {
     "name": "stdout",
     "output_type": "stream",
     "text": [
      "변경전\n",
      "\n",
      "RangeIndex(start=0, stop=5, step=1)\n",
      "\n",
      "Index(['no', 'name', 'age', 'gender'], dtype='object')\n",
      "변경 후\n",
      "Index(['no', 'name', 'age', 'gender'], dtype='object')\n",
      "RangeIndex(start=0, stop=5, step=1)\n"
     ]
    },
    {
     "data": {
      "text/html": [
       "<div>\n",
       "<style scoped>\n",
       "    .dataframe tbody tr th:only-of-type {\n",
       "        vertical-align: middle;\n",
       "    }\n",
       "\n",
       "    .dataframe tbody tr th {\n",
       "        vertical-align: top;\n",
       "    }\n",
       "\n",
       "    .dataframe thead th {\n",
       "        text-align: right;\n",
       "    }\n",
       "</style>\n",
       "<table border=\"1\" class=\"dataframe\">\n",
       "  <thead>\n",
       "    <tr style=\"text-align: right;\">\n",
       "      <th></th>\n",
       "      <th>0</th>\n",
       "      <th>1</th>\n",
       "      <th>2</th>\n",
       "      <th>3</th>\n",
       "      <th>4</th>\n",
       "    </tr>\n",
       "  </thead>\n",
       "  <tbody>\n",
       "    <tr>\n",
       "      <th>no</th>\n",
       "      <td>1</td>\n",
       "      <td>2</td>\n",
       "      <td>3</td>\n",
       "      <td>4</td>\n",
       "      <td>5</td>\n",
       "    </tr>\n",
       "    <tr>\n",
       "      <th>name</th>\n",
       "      <td>Hong</td>\n",
       "      <td>Park</td>\n",
       "      <td>Kim</td>\n",
       "      <td>Lee</td>\n",
       "      <td>Lim</td>\n",
       "    </tr>\n",
       "    <tr>\n",
       "      <th>age</th>\n",
       "      <td>10</td>\n",
       "      <td>13</td>\n",
       "      <td>12</td>\n",
       "      <td>16</td>\n",
       "      <td>15</td>\n",
       "    </tr>\n",
       "    <tr>\n",
       "      <th>gender</th>\n",
       "      <td>F</td>\n",
       "      <td>F</td>\n",
       "      <td>M</td>\n",
       "      <td>F</td>\n",
       "      <td>M</td>\n",
       "    </tr>\n",
       "  </tbody>\n",
       "</table>\n",
       "</div>"
      ],
      "text/plain": [
       "           0     1    2    3    4\n",
       "no         1     2    3    4    5\n",
       "name    Hong  Park  Kim  Lee  Lim\n",
       "age       10    13   12   16   15\n",
       "gender     F     F    M    F    M"
      ]
     },
     "execution_count": 33,
     "metadata": {},
     "output_type": "execute_result"
    }
   ],
   "source": [
    "# [4] DF 형태 변경 : 행 ==> 열, 열==> 행\n",
    "print('변경전', csvDF.index, csvDF.columns, sep='\\n\\n')\n",
    "\n",
    "      \n",
    "# 속성 T 사용\n",
    "csvDF=csvDF.T\n",
    "print('변경 후', csvDF.index, csvDF.columns, sep='\\n')\n",
    "csvDF\n"
   ]
  },
  {
   "cell_type": "code",
   "execution_count": 34,
   "metadata": {},
   "outputs": [
    {
     "name": "stdout",
     "output_type": "stream",
     "text": [
      "\n",
      "변경 후\n",
      "RangeIndex(start=0, stop=5, step=1)\n",
      "Index(['no', 'name', 'age', 'gender'], dtype='object')\n"
     ]
    }
   ],
   "source": [
    "# 메서드 transpose() 사용\n",
    "csvDF=csvDF.transpose()\n",
    "print('\\n변경 후', csvDF.index, csvDF.columns, sep='\\n')"
   ]
  },
  {
   "cell_type": "code",
   "execution_count": null,
   "metadata": {},
   "outputs": [],
   "source": []
  }
 ],
 "metadata": {
  "kernelspec": {
   "display_name": "PY_39",
   "language": "python",
   "name": "python3"
  },
  "language_info": {
   "codemirror_mode": {
    "name": "ipython",
    "version": 3
   },
   "file_extension": ".py",
   "mimetype": "text/x-python",
   "name": "python",
   "nbconvert_exporter": "python",
   "pygments_lexer": "ipython3",
   "version": "3.9.19"
  }
 },
 "nbformat": 4,
 "nbformat_minor": 2
}
