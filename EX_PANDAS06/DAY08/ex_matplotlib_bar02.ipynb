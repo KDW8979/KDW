{
 "cells": [
  {
   "cell_type": "markdown",
   "metadata": {},
   "source": [
    "#### [ 시도별 전출입 인구수 분석 - Matplotlib ]\n",
    "- 데이터셋 : 1970년 ~ 2017년까지 인구이동수\n",
    "- 대구의 타지역 이동 인구수 분석\n",
    "- 전국의 인구 이동수에 대한 분석\n",
    "- 과정\n",
    "    * 데이터파일 확인 \n",
    "        - 첫번째 줄이 컬럼명 맞는지 확인 \n",
    "        - 불필요한 컬럼이나 행이 있는지 확인\n",
    "        - 결측치 정도 확인\n",
    "    * 데이터 전처리 : 데이터 정리 및 손질\n",
    "        - 파일 확인 후 체크한 사항 진행\n",
    "        - 결측치 처리\n",
    "        - 이상치 처리\n",
    "        - 중복데이터 처리\n",
    "        - 형변환 => 실제 데이터와 타입 일치\n",
    "    * 데이터 가공 : 분석하고자 하는 데이터 형태   \n",
    "        - 행인덱스 처리 : 멀티인덱스 / 컬럼 => 행인덱스/행인덱스 초기화\n",
    "        - 필요한 컬럼 & 행 추출\n",
    "        - 추가적인 결측치/이상치/중복데이터 처리\n",
    "        - 형변환 => 연속형 -> 범주형, 범주형 -> 연속형\n",
    "    * 데이터 분석\n",
    "        - 탐색적 분석 : 주어진 데이터를 기반으로 의미를 찾아내는 것\n",
    "        - 시각화 및 분석 결과 텍스트 요약 정리    "
   ]
  },
  {
   "cell_type": "markdown",
   "metadata": {},
   "source": [
    "- [1] 준비과정 : 모듈, 데이터"
   ]
  },
  {
   "cell_type": "code",
   "execution_count": 2,
   "metadata": {},
   "outputs": [],
   "source": [
    "# [1-1] 모듈 로딩\n",
    "import pandas as pd                     # 데이터분석용 모듈\n",
    "import matplotlib.pyplot as plt         # 데이터시각화용 모듈"
   ]
  },
  {
   "cell_type": "code",
   "execution_count": 3,
   "metadata": {},
   "outputs": [],
   "source": [
    "# [1-2] 데이터 준비\n",
    "F_DATA=r'C:\\Users\\kdp\\Desktop\\KDW\\EX_PANDAS06\\DAY08\\시도별 전출입 인구수.xlsx'"
   ]
  },
  {
   "cell_type": "code",
   "execution_count": 4,
   "metadata": {},
   "outputs": [],
   "source": [
    "# [1-3] DATA ==> DataFrame 형태 저장\n",
    "dataDF=pd.read_excel(F_DATA, engine='openpyxl')"
   ]
  },
  {
   "cell_type": "markdown",
   "metadata": {},
   "source": [
    "- [2] 데이터 확인 : 행과 컬럼수, 실제데이터와 컬럼 타입, 결측치 체크"
   ]
  },
  {
   "cell_type": "code",
   "execution_count": 5,
   "metadata": {},
   "outputs": [
    {
     "name": "stdout",
     "output_type": "stream",
     "text": [
      "<class 'pandas.core.frame.DataFrame'>\n",
      "RangeIndex: 325 entries, 0 to 324\n",
      "Data columns (total 50 columns):\n",
      " #   Column  Non-Null Count  Dtype \n",
      "---  ------  --------------  ----- \n",
      " 0   전출지별    18 non-null     object\n",
      " 1   전입지별    324 non-null    object\n",
      " 2   1970    325 non-null    object\n",
      " 3   1971    325 non-null    object\n",
      " 4   1972    325 non-null    object\n",
      " 5   1973    325 non-null    object\n",
      " 6   1974    325 non-null    object\n",
      " 7   1975    325 non-null    object\n",
      " 8   1976    325 non-null    object\n",
      " 9   1977    325 non-null    object\n",
      " 10  1978    325 non-null    object\n",
      " 11  1979    325 non-null    object\n",
      " 12  1980    325 non-null    object\n",
      " 13  1981    325 non-null    object\n",
      " 14  1982    325 non-null    object\n",
      " 15  1983    325 non-null    object\n",
      " 16  1984    322 non-null    object\n",
      " 17  1985    322 non-null    object\n",
      " 18  1986    322 non-null    object\n",
      " 19  1987    325 non-null    object\n",
      " 20  1988    325 non-null    object\n",
      " 21  1989    325 non-null    object\n",
      " 22  1990    325 non-null    object\n",
      " 23  1991    325 non-null    object\n",
      " 24  1992    325 non-null    object\n",
      " 25  1993    325 non-null    object\n",
      " 26  1994    325 non-null    object\n",
      " 27  1995    325 non-null    object\n",
      " 28  1996    325 non-null    object\n",
      " 29  1997    325 non-null    object\n",
      " 30  1998    325 non-null    object\n",
      " 31  1999    325 non-null    object\n",
      " 32  2000    325 non-null    object\n",
      " 33  2001    325 non-null    object\n",
      " 34  2002    325 non-null    object\n",
      " 35  2003    325 non-null    object\n",
      " 36  2004    325 non-null    object\n",
      " 37  2005    325 non-null    object\n",
      " 38  2006    325 non-null    object\n",
      " 39  2007    325 non-null    object\n",
      " 40  2008    325 non-null    object\n",
      " 41  2009    325 non-null    object\n",
      " 42  2010    325 non-null    object\n",
      " 43  2011    325 non-null    object\n",
      " 44  2012    325 non-null    object\n",
      " 45  2013    325 non-null    object\n",
      " 46  2014    325 non-null    object\n",
      " 47  2015    325 non-null    object\n",
      " 48  2016    325 non-null    object\n",
      " 49  2017    325 non-null    object\n",
      "dtypes: object(50)\n",
      "memory usage: 127.1+ KB\n"
     ]
    }
   ],
   "source": [
    "# [2-1] 기본정보 확인 => info(), describe()\n",
    "# - 행 수, 컬럼 수, 컬럼별 결측치 아닌(non-null) 데이터 수, 컬럼별 데이터타입, 메모리 사용량\n",
    "dataDF.info()"
   ]
  },
  {
   "cell_type": "code",
   "execution_count": 6,
   "metadata": {},
   "outputs": [
    {
     "data": {
      "text/html": [
       "<div>\n",
       "<style scoped>\n",
       "    .dataframe tbody tr th:only-of-type {\n",
       "        vertical-align: middle;\n",
       "    }\n",
       "\n",
       "    .dataframe tbody tr th {\n",
       "        vertical-align: top;\n",
       "    }\n",
       "\n",
       "    .dataframe thead th {\n",
       "        text-align: right;\n",
       "    }\n",
       "</style>\n",
       "<table border=\"1\" class=\"dataframe\">\n",
       "  <thead>\n",
       "    <tr style=\"text-align: right;\">\n",
       "      <th></th>\n",
       "      <th>전출지별</th>\n",
       "      <th>전입지별</th>\n",
       "      <th>1970</th>\n",
       "      <th>1971</th>\n",
       "      <th>1972</th>\n",
       "      <th>1973</th>\n",
       "      <th>1974</th>\n",
       "      <th>1975</th>\n",
       "      <th>1976</th>\n",
       "      <th>1977</th>\n",
       "      <th>...</th>\n",
       "      <th>2008</th>\n",
       "      <th>2009</th>\n",
       "      <th>2010</th>\n",
       "      <th>2011</th>\n",
       "      <th>2012</th>\n",
       "      <th>2013</th>\n",
       "      <th>2014</th>\n",
       "      <th>2015</th>\n",
       "      <th>2016</th>\n",
       "      <th>2017</th>\n",
       "    </tr>\n",
       "  </thead>\n",
       "  <tbody>\n",
       "    <tr>\n",
       "      <th>count</th>\n",
       "      <td>18</td>\n",
       "      <td>324</td>\n",
       "      <td>325</td>\n",
       "      <td>325</td>\n",
       "      <td>325</td>\n",
       "      <td>325</td>\n",
       "      <td>325</td>\n",
       "      <td>325</td>\n",
       "      <td>325</td>\n",
       "      <td>325</td>\n",
       "      <td>...</td>\n",
       "      <td>325</td>\n",
       "      <td>325</td>\n",
       "      <td>325</td>\n",
       "      <td>325</td>\n",
       "      <td>325</td>\n",
       "      <td>325</td>\n",
       "      <td>325</td>\n",
       "      <td>325</td>\n",
       "      <td>325</td>\n",
       "      <td>325</td>\n",
       "    </tr>\n",
       "    <tr>\n",
       "      <th>unique</th>\n",
       "      <td>18</td>\n",
       "      <td>18</td>\n",
       "      <td>146</td>\n",
       "      <td>146</td>\n",
       "      <td>146</td>\n",
       "      <td>146</td>\n",
       "      <td>145</td>\n",
       "      <td>146</td>\n",
       "      <td>146</td>\n",
       "      <td>146</td>\n",
       "      <td>...</td>\n",
       "      <td>289</td>\n",
       "      <td>289</td>\n",
       "      <td>289</td>\n",
       "      <td>291</td>\n",
       "      <td>323</td>\n",
       "      <td>320</td>\n",
       "      <td>321</td>\n",
       "      <td>324</td>\n",
       "      <td>322</td>\n",
       "      <td>323</td>\n",
       "    </tr>\n",
       "    <tr>\n",
       "      <th>top</th>\n",
       "      <td>전국</td>\n",
       "      <td>전국</td>\n",
       "      <td>-</td>\n",
       "      <td>-</td>\n",
       "      <td>-</td>\n",
       "      <td>-</td>\n",
       "      <td>-</td>\n",
       "      <td>-</td>\n",
       "      <td>-</td>\n",
       "      <td>-</td>\n",
       "      <td>...</td>\n",
       "      <td>-</td>\n",
       "      <td>-</td>\n",
       "      <td>-</td>\n",
       "      <td>-</td>\n",
       "      <td>1489</td>\n",
       "      <td>1939</td>\n",
       "      <td>2026</td>\n",
       "      <td>1468</td>\n",
       "      <td>4303</td>\n",
       "      <td>947</td>\n",
       "    </tr>\n",
       "    <tr>\n",
       "      <th>freq</th>\n",
       "      <td>1</td>\n",
       "      <td>18</td>\n",
       "      <td>180</td>\n",
       "      <td>180</td>\n",
       "      <td>180</td>\n",
       "      <td>180</td>\n",
       "      <td>180</td>\n",
       "      <td>180</td>\n",
       "      <td>180</td>\n",
       "      <td>180</td>\n",
       "      <td>...</td>\n",
       "      <td>35</td>\n",
       "      <td>35</td>\n",
       "      <td>35</td>\n",
       "      <td>35</td>\n",
       "      <td>2</td>\n",
       "      <td>2</td>\n",
       "      <td>2</td>\n",
       "      <td>2</td>\n",
       "      <td>2</td>\n",
       "      <td>2</td>\n",
       "    </tr>\n",
       "  </tbody>\n",
       "</table>\n",
       "<p>4 rows × 50 columns</p>\n",
       "</div>"
      ],
      "text/plain": [
       "       전출지별 전입지별 1970 1971 1972 1973 1974 1975 1976 1977  ... 2008 2009 2010  \\\n",
       "count    18  324  325  325  325  325  325  325  325  325  ...  325  325  325   \n",
       "unique   18   18  146  146  146  146  145  146  146  146  ...  289  289  289   \n",
       "top      전국   전국    -    -    -    -    -    -    -    -  ...    -    -    -   \n",
       "freq      1   18  180  180  180  180  180  180  180  180  ...   35   35   35   \n",
       "\n",
       "       2011  2012  2013  2014  2015  2016 2017  \n",
       "count   325   325   325   325   325   325  325  \n",
       "unique  291   323   320   321   324   322  323  \n",
       "top       -  1489  1939  2026  1468  4303  947  \n",
       "freq     35     2     2     2     2     2    2  \n",
       "\n",
       "[4 rows x 50 columns]"
      ]
     },
     "execution_count": 6,
     "metadata": {},
     "output_type": "execute_result"
    }
   ],
   "source": [
    "# [2-2] 기본정보 확인 => info(), describe()\n",
    "# - 수치 데이터 컬럼의 데이터 분포 확인 : 최대값, 최소값, 표준편차, 사분위수, 평균값\n",
    "# - 범주 데이터 컬럼의 데이터 분포 확인 : 고유값, 가장 많이 나온 값, 가장 많이 나온 값의 빈도수\n",
    "dataDF.describe(include='all')"
   ]
  },
  {
   "cell_type": "code",
   "execution_count": 7,
   "metadata": {},
   "outputs": [
    {
     "data": {
      "text/html": [
       "<div>\n",
       "<style scoped>\n",
       "    .dataframe tbody tr th:only-of-type {\n",
       "        vertical-align: middle;\n",
       "    }\n",
       "\n",
       "    .dataframe tbody tr th {\n",
       "        vertical-align: top;\n",
       "    }\n",
       "\n",
       "    .dataframe thead th {\n",
       "        text-align: right;\n",
       "    }\n",
       "</style>\n",
       "<table border=\"1\" class=\"dataframe\">\n",
       "  <thead>\n",
       "    <tr style=\"text-align: right;\">\n",
       "      <th></th>\n",
       "      <th>전출지별</th>\n",
       "      <th>전입지별</th>\n",
       "      <th>1970</th>\n",
       "      <th>1971</th>\n",
       "      <th>1972</th>\n",
       "      <th>1973</th>\n",
       "      <th>1974</th>\n",
       "      <th>1975</th>\n",
       "      <th>1976</th>\n",
       "      <th>1977</th>\n",
       "      <th>...</th>\n",
       "      <th>2008</th>\n",
       "      <th>2009</th>\n",
       "      <th>2010</th>\n",
       "      <th>2011</th>\n",
       "      <th>2012</th>\n",
       "      <th>2013</th>\n",
       "      <th>2014</th>\n",
       "      <th>2015</th>\n",
       "      <th>2016</th>\n",
       "      <th>2017</th>\n",
       "    </tr>\n",
       "  </thead>\n",
       "  <tbody>\n",
       "    <tr>\n",
       "      <th>0</th>\n",
       "      <td>NaN</td>\n",
       "      <td>NaN</td>\n",
       "      <td>이동자수 (명)</td>\n",
       "      <td>이동자수 (명)</td>\n",
       "      <td>이동자수 (명)</td>\n",
       "      <td>이동자수 (명)</td>\n",
       "      <td>이동자수 (명)</td>\n",
       "      <td>이동자수 (명)</td>\n",
       "      <td>이동자수 (명)</td>\n",
       "      <td>이동자수 (명)</td>\n",
       "      <td>...</td>\n",
       "      <td>이동자수 (명)</td>\n",
       "      <td>이동자수 (명)</td>\n",
       "      <td>이동자수 (명)</td>\n",
       "      <td>이동자수 (명)</td>\n",
       "      <td>이동자수 (명)</td>\n",
       "      <td>이동자수 (명)</td>\n",
       "      <td>이동자수 (명)</td>\n",
       "      <td>이동자수 (명)</td>\n",
       "      <td>이동자수 (명)</td>\n",
       "      <td>이동자수 (명)</td>\n",
       "    </tr>\n",
       "    <tr>\n",
       "      <th>1</th>\n",
       "      <td>전국</td>\n",
       "      <td>전국</td>\n",
       "      <td>4046536</td>\n",
       "      <td>4210164</td>\n",
       "      <td>3687938</td>\n",
       "      <td>4860418</td>\n",
       "      <td>5297969</td>\n",
       "      <td>9011440</td>\n",
       "      <td>6773250</td>\n",
       "      <td>7397623</td>\n",
       "      <td>...</td>\n",
       "      <td>8808256</td>\n",
       "      <td>8487275</td>\n",
       "      <td>8226594</td>\n",
       "      <td>8127195</td>\n",
       "      <td>7506691</td>\n",
       "      <td>7411784</td>\n",
       "      <td>7629098</td>\n",
       "      <td>7755286</td>\n",
       "      <td>7378430</td>\n",
       "      <td>7154226</td>\n",
       "    </tr>\n",
       "    <tr>\n",
       "      <th>2</th>\n",
       "      <td>NaN</td>\n",
       "      <td>서울특별시</td>\n",
       "      <td>1742813</td>\n",
       "      <td>1671705</td>\n",
       "      <td>1349333</td>\n",
       "      <td>1831858</td>\n",
       "      <td>2050392</td>\n",
       "      <td>3396662</td>\n",
       "      <td>2756510</td>\n",
       "      <td>2893403</td>\n",
       "      <td>...</td>\n",
       "      <td>2025358</td>\n",
       "      <td>1873188</td>\n",
       "      <td>1733015</td>\n",
       "      <td>1721748</td>\n",
       "      <td>1555281</td>\n",
       "      <td>1520090</td>\n",
       "      <td>1573594</td>\n",
       "      <td>1589431</td>\n",
       "      <td>1515602</td>\n",
       "      <td>1472937</td>\n",
       "    </tr>\n",
       "    <tr>\n",
       "      <th>3</th>\n",
       "      <td>NaN</td>\n",
       "      <td>부산광역시</td>\n",
       "      <td>448577</td>\n",
       "      <td>389797</td>\n",
       "      <td>362202</td>\n",
       "      <td>482061</td>\n",
       "      <td>680984</td>\n",
       "      <td>805979</td>\n",
       "      <td>724664</td>\n",
       "      <td>785117</td>\n",
       "      <td>...</td>\n",
       "      <td>514502</td>\n",
       "      <td>519310</td>\n",
       "      <td>519334</td>\n",
       "      <td>508043</td>\n",
       "      <td>461042</td>\n",
       "      <td>478451</td>\n",
       "      <td>485710</td>\n",
       "      <td>507031</td>\n",
       "      <td>459015</td>\n",
       "      <td>439073</td>\n",
       "    </tr>\n",
       "    <tr>\n",
       "      <th>4</th>\n",
       "      <td>NaN</td>\n",
       "      <td>대구광역시</td>\n",
       "      <td>-</td>\n",
       "      <td>-</td>\n",
       "      <td>-</td>\n",
       "      <td>-</td>\n",
       "      <td>-</td>\n",
       "      <td>-</td>\n",
       "      <td>-</td>\n",
       "      <td>-</td>\n",
       "      <td>...</td>\n",
       "      <td>409938</td>\n",
       "      <td>398626</td>\n",
       "      <td>370817</td>\n",
       "      <td>370563</td>\n",
       "      <td>348642</td>\n",
       "      <td>351873</td>\n",
       "      <td>350213</td>\n",
       "      <td>351424</td>\n",
       "      <td>328228</td>\n",
       "      <td>321182</td>\n",
       "    </tr>\n",
       "  </tbody>\n",
       "</table>\n",
       "<p>5 rows × 50 columns</p>\n",
       "</div>"
      ],
      "text/plain": [
       "  전출지별   전입지별      1970      1971      1972      1973      1974      1975  \\\n",
       "0  NaN    NaN  이동자수 (명)  이동자수 (명)  이동자수 (명)  이동자수 (명)  이동자수 (명)  이동자수 (명)   \n",
       "1   전국     전국   4046536   4210164   3687938   4860418   5297969   9011440   \n",
       "2  NaN  서울특별시   1742813   1671705   1349333   1831858   2050392   3396662   \n",
       "3  NaN  부산광역시    448577    389797    362202    482061    680984    805979   \n",
       "4  NaN  대구광역시         -         -         -         -         -         -   \n",
       "\n",
       "       1976      1977  ...      2008      2009      2010      2011      2012  \\\n",
       "0  이동자수 (명)  이동자수 (명)  ...  이동자수 (명)  이동자수 (명)  이동자수 (명)  이동자수 (명)  이동자수 (명)   \n",
       "1   6773250   7397623  ...   8808256   8487275   8226594   8127195   7506691   \n",
       "2   2756510   2893403  ...   2025358   1873188   1733015   1721748   1555281   \n",
       "3    724664    785117  ...    514502    519310    519334    508043    461042   \n",
       "4         -         -  ...    409938    398626    370817    370563    348642   \n",
       "\n",
       "       2013      2014      2015      2016      2017  \n",
       "0  이동자수 (명)  이동자수 (명)  이동자수 (명)  이동자수 (명)  이동자수 (명)  \n",
       "1   7411784   7629098   7755286   7378430   7154226  \n",
       "2   1520090   1573594   1589431   1515602   1472937  \n",
       "3    478451    485710    507031    459015    439073  \n",
       "4    351873    350213    351424    328228    321182  \n",
       "\n",
       "[5 rows x 50 columns]"
      ]
     },
     "execution_count": 7,
     "metadata": {},
     "output_type": "execute_result"
    }
   ],
   "source": [
    "# [2-3] 실제데이터 info()에서 확인한 타입 비교 => head(), tail()\n",
    "dataDF.head()"
   ]
  },
  {
   "cell_type": "code",
   "execution_count": 8,
   "metadata": {},
   "outputs": [],
   "source": [
    "### 기본 정보 확인 후 결과 \n",
    "# - 불필요한 행/컬럼 : 0번행 삭제\n",
    "# - 결측치 : '전출지별' 컬럼 ==> 이전 행 값으로 채우기\n",
    "# - 이상치 : 행별로 '-' 값이 수치값과 섞여 있음 ==> 0 처리 필요!"
   ]
  },
  {
   "cell_type": "markdown",
   "metadata": {},
   "source": [
    "- [3] 데이터 전처리 \n",
    "    * 기본확인 파악된 내용들 처리\n",
    "    * 불필요 데이터 삭제 : 0번행 삭제\n",
    "    * 결측치 데이터 처리 : '전출지별' 컬럼 처리\n",
    "    * 이상치 데이터 처리 : '-'에 대한 처리\n",
    "    * 데이터 자료형 일치 : 형변환"
   ]
  },
  {
   "cell_type": "code",
   "execution_count": 9,
   "metadata": {},
   "outputs": [
    {
     "name": "stdout",
     "output_type": "stream",
     "text": [
      "확인\n",
      "   전출지별   전입지별     1970     1971     1972     1973     1974     1975     1976  \\\n",
      "1   전국     전국  4046536  4210164  3687938  4860418  5297969  9011440  6773250   \n",
      "2  NaN  서울특별시  1742813  1671705  1349333  1831858  2050392  3396662  2756510   \n",
      "3  NaN  부산광역시   448577   389797   362202   482061   680984   805979   724664   \n",
      "\n",
      "      1977  ...     2008     2009     2010     2011     2012     2013  \\\n",
      "1  7397623  ...  8808256  8487275  8226594  8127195  7506691  7411784   \n",
      "2  2893403  ...  2025358  1873188  1733015  1721748  1555281  1520090   \n",
      "3   785117  ...   514502   519310   519334   508043   461042   478451   \n",
      "\n",
      "      2014     2015     2016     2017  \n",
      "1  7629098  7755286  7378430  7154226  \n",
      "2  1573594  1589431  1515602  1472937  \n",
      "3   485710   507031   459015   439073  \n",
      "\n",
      "[3 rows x 50 columns]\n"
     ]
    }
   ],
   "source": [
    "# [3-1] 불필요 데이터 처리\n",
    "copyDF=dataDF.drop(index=0)\n",
    "print(f'확인\\n {copyDF.head(3)}')\n"
   ]
  },
  {
   "cell_type": "code",
   "execution_count": 10,
   "metadata": {},
   "outputs": [
    {
     "data": {
      "text/plain": [
       "전출지별    306\n",
       "전입지별      0\n",
       "1970      0\n",
       "1971      0\n",
       "1972      0\n",
       "1973      0\n",
       "1974      0\n",
       "1975      0\n",
       "1976      0\n",
       "1977      0\n",
       "1978      0\n",
       "1979      0\n",
       "1980      0\n",
       "1981      0\n",
       "1982      0\n",
       "1983      0\n",
       "1984      3\n",
       "1985      3\n",
       "1986      3\n",
       "1987      0\n",
       "1988      0\n",
       "1989      0\n",
       "1990      0\n",
       "1991      0\n",
       "1992      0\n",
       "1993      0\n",
       "1994      0\n",
       "1995      0\n",
       "1996      0\n",
       "1997      0\n",
       "1998      0\n",
       "1999      0\n",
       "2000      0\n",
       "2001      0\n",
       "2002      0\n",
       "2003      0\n",
       "2004      0\n",
       "2005      0\n",
       "2006      0\n",
       "2007      0\n",
       "2008      0\n",
       "2009      0\n",
       "2010      0\n",
       "2011      0\n",
       "2012      0\n",
       "2013      0\n",
       "2014      0\n",
       "2015      0\n",
       "2016      0\n",
       "2017      0\n",
       "dtype: int64"
      ]
     },
     "execution_count": 10,
     "metadata": {},
     "output_type": "execute_result"
    }
   ],
   "source": [
    "# [3-2] 결측치 데이터 처리 => isna()/isnull()\n",
    "copyDF.isna().sum()"
   ]
  },
  {
   "cell_type": "code",
   "execution_count": 11,
   "metadata": {},
   "outputs": [
    {
     "data": {
      "text/html": [
       "<div>\n",
       "<style scoped>\n",
       "    .dataframe tbody tr th:only-of-type {\n",
       "        vertical-align: middle;\n",
       "    }\n",
       "\n",
       "    .dataframe tbody tr th {\n",
       "        vertical-align: top;\n",
       "    }\n",
       "\n",
       "    .dataframe thead th {\n",
       "        text-align: right;\n",
       "    }\n",
       "</style>\n",
       "<table border=\"1\" class=\"dataframe\">\n",
       "  <thead>\n",
       "    <tr style=\"text-align: right;\">\n",
       "      <th></th>\n",
       "      <th>1984</th>\n",
       "      <th>1985</th>\n",
       "      <th>1986</th>\n",
       "    </tr>\n",
       "  </thead>\n",
       "  <tbody>\n",
       "    <tr>\n",
       "      <th>34</th>\n",
       "      <td>True</td>\n",
       "      <td>True</td>\n",
       "      <td>True</td>\n",
       "    </tr>\n",
       "    <tr>\n",
       "      <th>35</th>\n",
       "      <td>True</td>\n",
       "      <td>True</td>\n",
       "      <td>True</td>\n",
       "    </tr>\n",
       "    <tr>\n",
       "      <th>36</th>\n",
       "      <td>True</td>\n",
       "      <td>True</td>\n",
       "      <td>True</td>\n",
       "    </tr>\n",
       "  </tbody>\n",
       "</table>\n",
       "</div>"
      ],
      "text/plain": [
       "    1984  1985  1986\n",
       "34  True  True  True\n",
       "35  True  True  True\n",
       "36  True  True  True"
      ]
     },
     "execution_count": 11,
     "metadata": {},
     "output_type": "execute_result"
    }
   ],
   "source": [
    "# - '1984', '1985', '1986' 컬럼만 추출\n",
    "a=copyDF[['1984','1985','1986']].isna()\n",
    "a[a.sum(axis=1)>0]"
   ]
  },
  {
   "cell_type": "code",
   "execution_count": 12,
   "metadata": {},
   "outputs": [
    {
     "name": "stderr",
     "output_type": "stream",
     "text": [
      "C:\\Users\\kdp\\AppData\\Local\\Temp\\ipykernel_4820\\2555960651.py:2: FutureWarning: A value is trying to be set on a copy of a DataFrame or Series through chained assignment using an inplace method.\n",
      "The behavior will change in pandas 3.0. This inplace method will never work because the intermediate object on which we are setting values always behaves as a copy.\n",
      "\n",
      "For example, when doing 'df[col].method(value, inplace=True)', try using 'df.method({col: value}, inplace=True)' or df[col] = df[col].method(value) instead, to perform the operation inplace on the original object.\n",
      "\n",
      "\n",
      "  copyDF['전출지별'].ffill(inplace=True)\n",
      "C:\\Users\\kdp\\AppData\\Local\\Temp\\ipykernel_4820\\2555960651.py:6: FutureWarning: Downcasting object dtype arrays on .fillna, .ffill, .bfill is deprecated and will change in a future version. Call result.infer_objects(copy=False) instead. To opt-in to the future behavior, set `pd.set_option('future.no_silent_downcasting', True)`\n",
      "  copyDF.fillna(0, inplace=True)\n"
     ]
    }
   ],
   "source": [
    "# - '전출지별'\n",
    "copyDF['전출지별'].ffill(inplace=True)\n",
    "\n",
    "# - 수치데이터 결측치 처리\n",
    "#  pd.set_option('future.no_silent_downcasting',True)\n",
    "copyDF.fillna(0, inplace=True)"
   ]
  },
  {
   "cell_type": "code",
   "execution_count": 13,
   "metadata": {},
   "outputs": [],
   "source": [
    "copyDF[['1984','1985','1986']]=copyDF[['1984','1985','1986']].fillna(0)"
   ]
  },
  {
   "cell_type": "code",
   "execution_count": 14,
   "metadata": {},
   "outputs": [
    {
     "data": {
      "text/plain": [
       "전출지별    0\n",
       "전입지별    0\n",
       "1970    0\n",
       "1971    0\n",
       "1972    0\n",
       "1973    0\n",
       "1974    0\n",
       "1975    0\n",
       "1976    0\n",
       "1977    0\n",
       "1978    0\n",
       "1979    0\n",
       "1980    0\n",
       "1981    0\n",
       "1982    0\n",
       "1983    0\n",
       "1984    0\n",
       "1985    0\n",
       "1986    0\n",
       "1987    0\n",
       "1988    0\n",
       "1989    0\n",
       "1990    0\n",
       "1991    0\n",
       "1992    0\n",
       "1993    0\n",
       "1994    0\n",
       "1995    0\n",
       "1996    0\n",
       "1997    0\n",
       "1998    0\n",
       "1999    0\n",
       "2000    0\n",
       "2001    0\n",
       "2002    0\n",
       "2003    0\n",
       "2004    0\n",
       "2005    0\n",
       "2006    0\n",
       "2007    0\n",
       "2008    0\n",
       "2009    0\n",
       "2010    0\n",
       "2011    0\n",
       "2012    0\n",
       "2013    0\n",
       "2014    0\n",
       "2015    0\n",
       "2016    0\n",
       "2017    0\n",
       "dtype: int64"
      ]
     },
     "execution_count": 14,
     "metadata": {},
     "output_type": "execute_result"
    }
   ],
   "source": [
    "copyDF.isna().sum()"
   ]
  },
  {
   "cell_type": "code",
   "execution_count": 15,
   "metadata": {},
   "outputs": [
    {
     "name": "stderr",
     "output_type": "stream",
     "text": [
      "C:\\Users\\kdp\\AppData\\Local\\Temp\\ipykernel_4820\\4066517947.py:2: FutureWarning: Downcasting behavior in `replace` is deprecated and will be removed in a future version. To retain the old behavior, explicitly call `result.infer_objects(copy=False)`. To opt-in to the future behavior, set `pd.set_option('future.no_silent_downcasting', True)`\n",
      "  copyDF.replace('-',0, inplace=True)\n"
     ]
    }
   ],
   "source": [
    "# [3-3] 이상치 데이터 처리\n",
    "copyDF.replace('-',0, inplace=True)"
   ]
  },
  {
   "cell_type": "code",
   "execution_count": 16,
   "metadata": {},
   "outputs": [],
   "source": [
    "# [3-4] 자료형 변환 : 48개 컬럼을 int로 형변환\n",
    "d_ = dict(zip(copyDF.columns[2:].to_list(), ['int']*(copyDF.shape[1]-2)))\n",
    "copyDF=copyDF.astype(d_)"
   ]
  },
  {
   "cell_type": "code",
   "execution_count": 17,
   "metadata": {},
   "outputs": [
    {
     "name": "stdout",
     "output_type": "stream",
     "text": [
      "copyDF.dtypes\n",
      " 전출지별    object\n",
      "전입지별    object\n",
      "1970     int32\n",
      "1971     int32\n",
      "1972     int32\n",
      "1973     int32\n",
      "1974     int32\n",
      "1975     int32\n",
      "1976     int32\n",
      "1977     int32\n",
      "1978     int32\n",
      "1979     int32\n",
      "1980     int32\n",
      "1981     int32\n",
      "1982     int32\n",
      "1983     int32\n",
      "1984     int32\n",
      "1985     int32\n",
      "1986     int32\n",
      "1987     int32\n",
      "1988     int32\n",
      "1989     int32\n",
      "1990     int32\n",
      "1991     int32\n",
      "1992     int32\n",
      "1993     int32\n",
      "1994     int32\n",
      "1995     int32\n",
      "1996     int32\n",
      "1997     int32\n",
      "1998     int32\n",
      "1999     int32\n",
      "2000     int32\n",
      "2001     int32\n",
      "2002     int32\n",
      "2003     int32\n",
      "2004     int32\n",
      "2005     int32\n",
      "2006     int32\n",
      "2007     int32\n",
      "2008     int32\n",
      "2009     int32\n",
      "2010     int32\n",
      "2011     int32\n",
      "2012     int32\n",
      "2013     int32\n",
      "2014     int32\n",
      "2015     int32\n",
      "2016     int32\n",
      "2017     int32\n",
      "dtype: object\n"
     ]
    }
   ],
   "source": [
    "print(f'copyDF.dtypes\\n {copyDF.dtypes}')"
   ]
  },
  {
   "cell_type": "code",
   "execution_count": 38,
   "metadata": {},
   "outputs": [],
   "source": [
    "mask=(copyDF['전출지별']=='대구광역시')\n",
    "\n",
    "#cityDF=copyDF[mask]\n",
    "#cityDF"
   ]
  },
  {
   "cell_type": "code",
   "execution_count": 19,
   "metadata": {},
   "outputs": [],
   "source": [
    "# 전출지별 컬럼 삭제\n",
    "cityDF=cityDF.drop('전출지별',axis=1)\n",
    "# 전입지별 컬럼 행 인덱스 설정\n",
    "cityDF.set_index('전입지별', inplace=True)"
   ]
  },
  {
   "cell_type": "code",
   "execution_count": 20,
   "metadata": {},
   "outputs": [],
   "source": [
    "# - 대구광역시, 전국 행 삭제\n",
    "cityDF.drop(['대구광역시','전국'], inplace=True)"
   ]
  },
  {
   "cell_type": "code",
   "execution_count": 21,
   "metadata": {},
   "outputs": [
    {
     "name": "stdout",
     "output_type": "stream",
     "text": [
      "1970    int32\n",
      "1971    int32\n",
      "1972    int32\n",
      "1973    int32\n",
      "1974    int32\n",
      "1975    int32\n",
      "1976    int32\n",
      "1977    int32\n",
      "1978    int32\n",
      "1979    int32\n",
      "1980    int32\n",
      "1981    int32\n",
      "1982    int32\n",
      "1983    int32\n",
      "1984    int32\n",
      "1985    int32\n",
      "1986    int32\n",
      "1987    int32\n",
      "1988    int32\n",
      "1989    int32\n",
      "1990    int32\n",
      "1991    int32\n",
      "1992    int32\n",
      "1993    int32\n",
      "1994    int32\n",
      "1995    int32\n",
      "1996    int32\n",
      "1997    int32\n",
      "1998    int32\n",
      "1999    int32\n",
      "2000    int32\n",
      "2001    int32\n",
      "2002    int32\n",
      "2003    int32\n",
      "2004    int32\n",
      "2005    int32\n",
      "2006    int32\n",
      "2007    int32\n",
      "2008    int32\n",
      "2009    int32\n",
      "2010    int32\n",
      "2011    int32\n",
      "2012    int32\n",
      "2013    int32\n",
      "2014    int32\n",
      "2015    int32\n",
      "2016    int32\n",
      "2017    int32\n",
      "dtype: object\n",
      "\n",
      "Index(['1970', '1971', '1972', '1973', '1974', '1975', '1976', '1977', '1978',\n",
      "       '1979', '1980', '1981', '1982', '1983', '1984', '1985', '1986', '1987',\n",
      "       '1988', '1989', '1990', '1991', '1992', '1993', '1994', '1995', '1996',\n",
      "       '1997', '1998', '1999', '2000', '2001', '2002', '2003', '2004', '2005',\n",
      "       '2006', '2007', '2008', '2009', '2010', '2011', '2012', '2013', '2014',\n",
      "       '2015', '2016', '2017'],\n",
      "      dtype='object')\n",
      "\n",
      "Index(['서울특별시', '부산광역시', '인천광역시', '광주광역시', '대전광역시', '울산광역시', '세종특별자치시', '경기도',\n",
      "       '강원도', '충청북도', '충청남도', '전라북도', '전라남도', '경상북도', '경상남도', '제주특별자치도'],\n",
      "      dtype='object', name='전입지별')\n"
     ]
    }
   ],
   "source": [
    "# - 가공데이터 확인\n",
    "print(cityDF.dtypes, cityDF.columns, cityDF.index, sep='\\n\\n')"
   ]
  },
  {
   "cell_type": "markdown",
   "metadata": {},
   "source": [
    "- [5] 히스토그램으로 특정 컬럼 데이터 분포 시각화\n",
    " "
   ]
  },
  {
   "cell_type": "code",
   "execution_count": 23,
   "metadata": {},
   "outputs": [
    {
     "data": {
      "text/plain": [
       "Index(['1970', '1971', '1972', '1973', '1974', '1975', '1976', '1977', '1978',\n",
       "       '1979', '1980', '1981', '1982', '1983', '1984', '1985', '1986', '1987',\n",
       "       '1988', '1989', '1990', '1991', '1992', '1993', '1994', '1995', '1996',\n",
       "       '1997', '1998', '1999', '2000', '2001', '2002', '2003', '2004', '2005',\n",
       "       '2006', '2007', '2008', '2009', '2010', '2011', '2012', '2013', '2014',\n",
       "       '2015', '2016', '2017'],\n",
       "      dtype='object')"
      ]
     },
     "execution_count": 23,
     "metadata": {},
     "output_type": "execute_result"
    }
   ],
   "source": [
    "# - 2000년도 데이터의 분포\n",
    "cityDF.columns"
   ]
  },
  {
   "cell_type": "code",
   "execution_count": 26,
   "metadata": {},
   "outputs": [
    {
     "data": {
      "text/plain": [
       "전입지별\n",
       "경상북도       52556\n",
       "서울특별시      16970\n",
       "경기도        13071\n",
       "경상남도        7977\n",
       "부산광역시       5844\n",
       "울산광역시       3465\n",
       "대전광역시       2378\n",
       "인천광역시       2209\n",
       "충청남도        2087\n",
       "강원도         1889\n",
       "충청북도        1824\n",
       "전라북도        1016\n",
       "전라남도         971\n",
       "제주특별자치도      701\n",
       "광주광역시        531\n",
       "세종특별자치시        0\n",
       "Name: 2000, dtype: int32"
      ]
     },
     "execution_count": 26,
     "metadata": {},
     "output_type": "execute_result"
    }
   ],
   "source": [
    "# 값 기준 정렬 ==> [기본] 오름차순\n",
    "cityDF['2000'].sort_values(ascending=False)"
   ]
  },
  {
   "cell_type": "code",
   "execution_count": 43,
   "metadata": {},
   "outputs": [
    {
     "name": "stdout",
     "output_type": "stream",
     "text": [
      "n => {n}\n",
      "bin => [0.0, 3503.733333333333, 7007.466666666666, 10511.199999999999, 14014.933333333332, 17518.666666666664, 21022.399999999998, 24526.13333333333, 28029.866666666665, 31533.6, 35037.33333333333, 38541.066666666666, 42044.799999999996, 45548.53333333333, 49052.26666666666, 52556.0]\n"
     ]
    },
    {
     "data": {
      "image/png": "[encoded data removed]",
      "text/plain": [
       "<Figure size 640x480 with 1 Axes>"
      ]
     },
     "metadata": {},
     "output_type": "display_data"
    }
   ],
   "source": [
    "# 2000년도 대구지역에서 타지역으로 이동인구수 분포\n",
    "n,bin,obj=plt.hist(cityDF['2000'], bins=15, histtype='stepfilled')\n",
    "print('n => {n}')\n",
    "print(f'bin => {bin.tolist()}')\n",
    "labels=list(map(int, bin.tolist()))\n",
    "plt.xticks(bin[::2], labels[::2], rotation=45)\n",
    "#plt.hist(cityDF['2000'],bins=15, histtype='stepfilled')\n",
    "#plt.hist(cityDF['2017'],bins=15, histtype='step')\n",
    "plt.show()"
   ]
  },
  {
   "cell_type": "code",
   "execution_count": 37,
   "metadata": {},
   "outputs": [
    {
     "data": {
      "image/png": "[encoded data removed]",
      "text/plain": [
       "<Figure size 1000x500 with 2 Axes>"
      ]
     },
     "metadata": {},
     "output_type": "display_data"
    }
   ],
   "source": [
    "# 2000년도 대구지역에서 타지역으로 이동인구수 분포\n",
    "fig=plt.figure(figsize=(10,5))\n",
    "ax1,ax2=fig.subplots(1,2,sharey=True)\n",
    "\n",
    "ax1.hist(cityDF['2000'],bins=15, histtype='stepfilled')\n",
    "ax2.hist(cityDF['2017'],bins=15, histtype='step')\n",
    "plt.show()"
   ]
  },
  {
   "cell_type": "code",
   "execution_count": null,
   "metadata": {},
   "outputs": [],
   "source": []
  }
 ],
 "metadata": {
  "kernelspec": {
   "display_name": "PY_39",
   "language": "python",
   "name": "python3"
  },
  "language_info": {
   "codemirror_mode": {
    "name": "ipython",
    "version": 3
   },
   "file_extension": ".py",
   "mimetype": "text/x-python",
   "name": "python",
   "nbconvert_exporter": "python",
   "pygments_lexer": "ipython3",
   "version": "3.9.19"
  }
 },
 "nbformat": 4,
 "nbformat_minor": 2
}
