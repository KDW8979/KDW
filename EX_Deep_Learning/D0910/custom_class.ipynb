{
 "cells": [
  {
   "cell_type": "markdown",
   "metadata": {},
   "source": [
    "#### 클래스 - 연산자 오버로딩(Overloading)\n",
    "- 오버로딩(Overloading)\n",
    "    * 함수명은 동일하지만 매개변수의 개수, 종류, 순서가 다르면 다른 함수로 인식\n",
    "    * 파이썬에서는 연산자(+,-,*,...)에 대한 매직함수/메서드가 미리 정의되어 있음\n",
    "    * 연산자 매직함수/메서드는 클래스별로 오버로딩하도록 되어 있음\n",
    "        "
   ]
  },
  {
   "cell_type": "code",
   "execution_count": 27,
   "metadata": {},
   "outputs": [],
   "source": [
    "## -------------------------------------------------------\n",
    "## 저장데이터 : 햄버거\n",
    "## 클래스이름 : Burger\n",
    "## 클래스속성 : 번, 패티, 야채, 소스, 이름, 브랜드, 가격\n",
    "##             - 브랜드 : 클래스속성\n",
    "##             - 브랜드 외 나머지 : 인스턴스속성     \n",
    "## 클래스기능 : 버거정보출력기능\n",
    "## -------------------------------------------------------\n",
    "class Burger:\n",
    "    # 클래스 속성\n",
    "    brand='맘스터치'\n",
    "    # 인스턴스 생성 메서드 즉, 생성자 메서드\n",
    "    # self : 인스턴스 정보가 저장될 메모리 정보\n",
    "    def __init__(self, bun, patty, veg, sauce, name, price):\n",
    "        self.bun=bun\n",
    "        self.patty=patty\n",
    "        self.veg=veg\n",
    "        self.sauce=sauce\n",
    "        self.name=name\n",
    "        self.price=price\n",
    "\n",
    "    # 인스턴스 메서드 : 인스턴스/객체를 생성해야만 사용가능한 메서드\n",
    "    def showBurgerInfo(self):\n",
    "        print(f'[{self.name}] 정보')\n",
    "        print(f'- 가격 : {self.price}')\n",
    "        print(f'- 구성 : {self.bun}, {self.patty},{self.veg}, {self.sauce}')\n",
    "    \n",
    "    # 연산자 오버로딩\n",
    "    def __add__(self, other):\n",
    "        print('__add__')\n",
    "        return self.price + other.price\n",
    "    \n",
    "    def __mul__(self, other):\n",
    "        print('__mul__')\n",
    "        return self.price * other\n",
    "    \n"
   ]
  },
  {
   "cell_type": "markdown",
   "metadata": {},
   "source": [
    "- 인스턴스/객체 생성 => 메모리 힙(Heap)"
   ]
  },
  {
   "cell_type": "code",
   "execution_count": 21,
   "metadata": {},
   "outputs": [],
   "source": [
    "## 생성 문법 : 변수명=클래스명(속성1, 속성2,..., 속성n)\n",
    "burger1=Burger('브리오슈', '소고기', '토마토', '스리라차', '소고기버거', 5000)\n",
    "burger2=Burger('참깨빵', '소고기', '양상추,토마토,양파', '특별한소스', '빅맥', 6000)\n",
    "burger3=Burger('브리오슈', '치킨', '양파, 피클', '화이트소스', '화이트갈릭버거', 5500)\n"
   ]
  },
  {
   "cell_type": "markdown",
   "metadata": {},
   "source": [
    "- 인스턴스/객체 속성"
   ]
  },
  {
   "cell_type": "code",
   "execution_count": 22,
   "metadata": {},
   "outputs": [
    {
     "name": "stdout",
     "output_type": "stream",
     "text": [
      "burger1.name =>소고기버거\n",
      "burger1.price => 5000\n"
     ]
    }
   ],
   "source": [
    "## 사용 문법 : 변수명.속성명\n",
    "print(f'burger1.name =>{burger1.name}')\n",
    "print(f'burger1.price => {burger1.price}')"
   ]
  },
  {
   "cell_type": "markdown",
   "metadata": {},
   "source": [
    "- 인스턴스/객체 메서드"
   ]
  },
  {
   "cell_type": "code",
   "execution_count": 23,
   "metadata": {},
   "outputs": [
    {
     "name": "stdout",
     "output_type": "stream",
     "text": [
      "[소고기버거] 정보\n",
      "- 가격 : 5000\n",
      "- 구성 : 브리오슈, 소고기,토마토, 스리라차\n"
     ]
    }
   ],
   "source": [
    "burger1.showBurgerInfo()"
   ]
  },
  {
   "cell_type": "markdown",
   "metadata": {},
   "source": [
    "- 인스턴스/객체 연산"
   ]
  },
  {
   "cell_type": "code",
   "execution_count": 24,
   "metadata": {},
   "outputs": [
    {
     "data": {
      "text/plain": [
       "('happynew', [1, 2, 3, 'a', 'b'], '**********')"
      ]
     },
     "execution_count": 24,
     "metadata": {},
     "output_type": "execute_result"
    }
   ],
   "source": [
    "'happy' + 'new', [1,2,3] + ['a','b'], '*'*10"
   ]
  },
  {
   "cell_type": "code",
   "execution_count": 30,
   "metadata": {},
   "outputs": [
    {
     "name": "stdout",
     "output_type": "stream",
     "text": [
      "__add__\n",
      "__mul__\n"
     ]
    },
    {
     "data": {
      "text/plain": [
       "(11000, 10000)"
      ]
     },
     "execution_count": 30,
     "metadata": {},
     "output_type": "execute_result"
    }
   ],
   "source": [
    "burger1+burger2, burger1*2"
   ]
  },
  {
   "cell_type": "markdown",
   "metadata": {},
   "source": [
    "- 최상위 부모 클래스 ==> Object"
   ]
  },
  {
   "cell_type": "code",
   "execution_count": 31,
   "metadata": {},
   "outputs": [],
   "source": [
    "class A:\n",
    "    pass"
   ]
  },
  {
   "cell_type": "code",
   "execution_count": 32,
   "metadata": {},
   "outputs": [],
   "source": [
    "a=A()"
   ]
  },
  {
   "cell_type": "code",
   "execution_count": 33,
   "metadata": {},
   "outputs": [
    {
     "data": {
      "text/plain": [
       "['__module__',\n",
       " '__dict__',\n",
       " '__weakref__',\n",
       " '__doc__',\n",
       " '__repr__',\n",
       " '__hash__',\n",
       " '__str__',\n",
       " '__getattribute__',\n",
       " '__setattr__',\n",
       " '__delattr__',\n",
       " '__lt__',\n",
       " '__le__',\n",
       " '__eq__',\n",
       " '__ne__',\n",
       " '__gt__',\n",
       " '__ge__',\n",
       " '__init__',\n",
       " '__new__',\n",
       " '__reduce_ex__',\n",
       " '__reduce__',\n",
       " '__subclasshook__',\n",
       " '__init_subclass__',\n",
       " '__format__',\n",
       " '__sizeof__',\n",
       " '__dir__',\n",
       " '__class__']"
      ]
     },
     "execution_count": 33,
     "metadata": {},
     "output_type": "execute_result"
    }
   ],
   "source": [
    "a.__dir__()"
   ]
  },
  {
   "cell_type": "code",
   "execution_count": null,
   "metadata": {},
   "outputs": [],
   "source": []
  }
 ],
 "metadata": {
  "kernelspec": {
   "display_name": "TORCH_38",
   "language": "python",
   "name": "python3"
  },
  "language_info": {
   "codemirror_mode": {
    "name": "ipython",
    "version": 3
   },
   "file_extension": ".py",
   "mimetype": "text/x-python",
   "name": "python",
   "nbconvert_exporter": "python",
   "pygments_lexer": "ipython3",
   "version": "3.8.19"
  }
 },
 "nbformat": 4,
 "nbformat_minor": 2
}
