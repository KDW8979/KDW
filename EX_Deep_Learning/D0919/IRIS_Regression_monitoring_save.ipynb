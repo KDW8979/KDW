{
 "cells": [
  {
   "cell_type": "markdown",
   "metadata": {},
   "source": [
    "#####  DNN기반 회귀 모델 구현 + 학습 진행 모니터링 + 진행 파라미터 저장\n",
    "- 데이터 셋 : iris.csv\n",
    "- 피쳐/속성 : 3개 Sepal_Length, Sepal_Width, Petal_Length\n",
    "- 타겟/라벨 : 1개 Petal_Width\n",
    "- 학습-방법 : 지도학습 > 회귀\n",
    "- 알고 리즘 : 인공신경망(ANN) -> MLP, DNN : 은닉층이 많은 구성 \n",
    "- 프레임워크 : Pytorch\n",
    "***\n",
    "- 모니터링\n",
    "    * 기준 : 검증데이터셋의 loss 또는 score\n",
    "    * 평가 : 학습데이터셋의 loss 또는 score와 비교해서 학습 중단여부 결정\n",
    "    * 저장 : 현재까지 진행된 모델의 파라미터(가중치, 절편) 저장 여부 또는 모델 전체 저장\n"
   ]
  },
  {
   "cell_type": "markdown",
   "metadata": {},
   "source": [
    "[1] 모듈 로딩 및 데이터 준비 <hr>"
   ]
  },
  {
   "cell_type": "code",
   "execution_count": 100,
   "metadata": {},
   "outputs": [],
   "source": [
    "\n",
    "# 모듈 로딩\n",
    "# - Model관련\n",
    "import torch              \n",
    "import torch.nn as nn              \n",
    "import torch.nn.functional as F \n",
    "from torch.utils.data import Dataset, DataLoader \n",
    "import torch.optim as optim    \n",
    "from torchmetrics.regression import R2Score, MeanSquaredError \n",
    "from torchinfo import summary \n",
    "\n",
    "#- Data 및 시각화 관련\n",
    "import pandas as pd \n",
    "import matplotlib.pyplot as plt              \n",
    "from sklearn.preprocessing import * \n",
    "from sklearn.model_selection import train_test_split  "
   ]
  },
  {
   "cell_type": "code",
   "execution_count": 101,
   "metadata": {},
   "outputs": [
    {
     "name": "stdout",
     "output_type": "stream",
     "text": [
      "Pytorch v.2.4.1\n",
      "Pandas  v.2.0.3\n"
     ]
    }
   ],
   "source": [
    "# 활용 패키지 버전 체크 ==> 사용자 정의함수로 구현하세요~!!\n",
    "print(f'Pytorch v.{torch.__version__}')\n",
    "print(f'Pandas  v.{pd.__version__}')"
   ]
  },
  {
   "cell_type": "code",
   "execution_count": 102,
   "metadata": {},
   "outputs": [
    {
     "data": {
      "text/html": [
       "<div>\n",
       "<style scoped>\n",
       "    .dataframe tbody tr th:only-of-type {\n",
       "        vertical-align: middle;\n",
       "    }\n",
       "\n",
       "    .dataframe tbody tr th {\n",
       "        vertical-align: top;\n",
       "    }\n",
       "\n",
       "    .dataframe thead th {\n",
       "        text-align: right;\n",
       "    }\n",
       "</style>\n",
       "<table border=\"1\" class=\"dataframe\">\n",
       "  <thead>\n",
       "    <tr style=\"text-align: right;\">\n",
       "      <th></th>\n",
       "      <th>sepal.length</th>\n",
       "      <th>sepal.width</th>\n",
       "      <th>petal.length</th>\n",
       "      <th>petal.width</th>\n",
       "    </tr>\n",
       "  </thead>\n",
       "  <tbody>\n",
       "    <tr>\n",
       "      <th>0</th>\n",
       "      <td>5.1</td>\n",
       "      <td>3.5</td>\n",
       "      <td>1.4</td>\n",
       "      <td>0.2</td>\n",
       "    </tr>\n",
       "  </tbody>\n",
       "</table>\n",
       "</div>"
      ],
      "text/plain": [
       "   sepal.length  sepal.width  petal.length  petal.width\n",
       "0           5.1          3.5           1.4          0.2"
      ]
     },
     "execution_count": 102,
     "metadata": {},
     "output_type": "execute_result"
    }
   ],
   "source": [
    "###  데이터 로딩\n",
    "DATA_FILE='../data/iris.csv' \n",
    "\n",
    "### CSV >>> DataFrame\n",
    "irisDF = pd.read_csv(DATA_FILE, usecols=[0,1,2,3])\n",
    "\n",
    "### 확인\n",
    "irisDF.head(1)"
   ]
  },
  {
   "cell_type": "markdown",
   "metadata": {},
   "source": [
    "[2] 모델 클래스 설계 및 정의 <hr>\n",
    "- 클래스목적 : iris 데이터를 학습 및 추론 목적\n",
    "- 클래스이름 : IrisRegModel\n",
    "- 부모클래스 : nn.Module\n",
    "- 매개__변수 : 층별 입출력 개수 고정하기때문에 필요 없음!\n",
    "- 속성__필드 : \n",
    "- 기능__역할 : __init__() : 모델 구조 설정 ,  forward() : 순방향 학습 <= 오바라이딩(overriding)\n",
    "- 클래스구조 \n",
    "    * 입력층 : 입력 3개(피쳐)      출력   10개(퍼셉트론/뉴런 10개 존재)\n",
    "    * 은닉층 : 입력 10개           출력   30개(퍼셉트론/뉴런 30개 존재)\n",
    "    * 출력층 : 입력 30개           출력   1개(너비값)\n",
    "\n",
    "- 활성화함수\n",
    "    * 클래스 형태 ==> nn.MESLoss, nn.ReLU ==> __init__() 메서드 \n",
    "    * 함수 형태 ==> torch.nn.functional 아래에  ==> forward()메서드"
   ]
  },
  {
   "cell_type": "code",
   "execution_count": 103,
   "metadata": {},
   "outputs": [],
   "source": [
    "class IrisRegModel(nn.Module):\n",
    "    \n",
    "    # 모델 구조 구성 및 인스턴스 생성 메서드\n",
    "    def __init__(self):\n",
    "        super().__init__()\n",
    "        self.in_layer=nn.Linear(3, 10)\n",
    "        self.hd_layer=nn.Linear(10, 30)\n",
    "        self.out_layer=nn.Linear(30, 1)\n",
    "        \n",
    "    # 순방향 학습 진행 메서드\n",
    "    def forward(self, input_data):\n",
    "        #- 입력층\n",
    "        y=self.in_layer(input_data)   # fi1W11+f12W12+f13W13+b, ... , fi101W101+f102W102+fi103W103+b\n",
    "        y=F.relu(y)                   # relu => y 값의 범위 : 0 <= y\n",
    "        \n",
    "        # - 은닉층 : 10개의 숫자 값(>=0)\n",
    "        y=self.hd_layer(y)            # f21W11+f22W12...+f210W210+b, ... , f230W201+...+f230W210+b\n",
    "        y=F.relu(y)                   # relu => y 값의 범위 : 0 <= y\n",
    "        \n",
    "        #- 출력층 : 30개의 숫자 값(>=0) 회귀이므로 바로 반환(return)\n",
    "        return self.out_layer(y)              # f31W31+.....+f330W330+b  \n"
   ]
  },
  {
   "cell_type": "code",
   "execution_count": 104,
   "metadata": {},
   "outputs": [
    {
     "name": "stdout",
     "output_type": "stream",
     "text": [
      "IrisRegModel(\n",
      "  (in_layer): Linear(in_features=3, out_features=10, bias=True)\n",
      "  (hd_layer): Linear(in_features=10, out_features=30, bias=True)\n",
      "  (out_layer): Linear(in_features=30, out_features=1, bias=True)\n",
      ")\n"
     ]
    }
   ],
   "source": [
    "### 모델 인스턴스 생성\n",
    "model = IrisRegModel()\n",
    "\n",
    "print(model)"
   ]
  },
  {
   "cell_type": "code",
   "execution_count": 105,
   "metadata": {},
   "outputs": [
    {
     "data": {
      "text/plain": [
       "==========================================================================================\n",
       "Layer (type:depth-idx)                   Output Shape              Param #\n",
       "==========================================================================================\n",
       "IrisRegModel                             [1000000, 1]              --\n",
       "├─Linear: 1-1                            [1000000, 10]             40\n",
       "├─Linear: 1-2                            [1000000, 30]             330\n",
       "├─Linear: 1-3                            [1000000, 1]              31\n",
       "==========================================================================================\n",
       "Total params: 401\n",
       "Trainable params: 401\n",
       "Non-trainable params: 0\n",
       "Total mult-adds (M): 401\n",
       "==========================================================================================\n",
       "Input size (MB): 12.00\n",
       "Forward/backward pass size (MB): 328.00\n",
       "Params size (MB): 0.00\n",
       "Estimated Total Size (MB): 340.00\n",
       "=========================================================================================="
      ]
     },
     "execution_count": 105,
     "metadata": {},
     "output_type": "execute_result"
    }
   ],
   "source": [
    "# 모델 사용 메모리 정보 확인\n",
    "summary(model, input_size=(1000000,3))"
   ]
  },
  {
   "cell_type": "markdown",
   "metadata": {},
   "source": [
    "[3] 데이터셋 클래스 설계 및 정의 <hr>\n",
    "- 데이터_셋 : iris.csv\n",
    "- 피쳐_개수 : 3개\n",
    "- 타겟_개수 : 1개\n",
    "- 클래스이름 : IrisDataset\n",
    "- 부모클래스 : utils.data.Dataset\n",
    "- 속성__필드 : featureDF, targetDF, n_rows, n_features\n",
    "- 필수메서드 \n",
    "    * _ _init_ _(self) : 데이터셋 저장 및 전처리, 개발자가 필요한 속성 설정\n",
    "    * _ _len_ _(self) : 데이터의 개수 반환\n",
    "    * _ _getItem_ _(self, index) : 특정 인덱스의 피쳐와 타겟 반환"
   ]
  },
  {
   "cell_type": "code",
   "execution_count": 106,
   "metadata": {},
   "outputs": [],
   "source": [
    "class IrisDataset(Dataset):\n",
    "    \n",
    "    def __init__(self, featureDF, targetDF):\n",
    "        self.featureDF=featureDF \n",
    "        self.targetDF=targetDF\n",
    "        self.n_rows=featureDF.shape[0]\n",
    "        self.n_features=featureDF.shape[1]\n",
    "    \n",
    "    def __len__(self):\n",
    "        return self.n_rows\n",
    "    \n",
    "    def __getitem__(self, index):\n",
    "        # 텐서화\n",
    "        featureTS=torch.FloatTensor(self.featureDF.iloc[index].values)\n",
    "        targetTS=torch.FloatTensor(self.targetDF.iloc[index].values) \n",
    "        \n",
    "        # 피쳐와 타겟 반환\n",
    "        return featureTS, targetTS"
   ]
  },
  {
   "cell_type": "code",
   "execution_count": 107,
   "metadata": {},
   "outputs": [],
   "source": [
    "## 데이터셋 인스턴스 생성\n",
    "\n",
    "# - DataFram에서 피쳐와 타겟 추출\n",
    "featureDF = irisDF[irisDF.columns[:-1]]   # 2D (150, 3)\n",
    "targetDF = irisDF[irisDF.columns[-1:]]    # 2D (150, 1)\n",
    "\n",
    "# - 커스텀데이터셋 인스턴스 생성\n",
    "irisDS=IrisDataset(featureDF, targetDF)"
   ]
  },
  {
   "cell_type": "markdown",
   "metadata": {},
   "source": [
    "[4] 학습 준비 \n",
    "- 학습_횟수 : EPOCH         <- 처음~끝까지 공부하는 단위\n",
    "- 배치_크기 : BATCH_SIZE    <- 한번에 학습할 데이터셋 양 \n",
    "- 위치_지정 : DEVICE    <- 텐서 저장 및 실행 위치 (GPU/CPU)\n",
    "- 학_습_률 : LR 가중치와 절편 업데이트 시 경사하강법으로 업데이트 간격 설정 0.001~0.1 "
   ]
  },
  {
   "cell_type": "code",
   "execution_count": 108,
   "metadata": {},
   "outputs": [
    {
     "name": "stdout",
     "output_type": "stream",
     "text": [
      "BATCH_CNT : 15\n"
     ]
    }
   ],
   "source": [
    "\n",
    "### 학습 진행 관련 설정\n",
    "EPOPCH = 1\n",
    "BATCH_SIZE = 10\n",
    "BATCH_CNT = irisDF.shape[0]//BATCH_SIZE\n",
    "DEVICE = 'cuda' if torch.cuda.is_available() else 'cpu'\n",
    "LR = 0.001\n",
    "\n",
    "print(f'BATCH_CNT : {BATCH_CNT}')"
   ]
  },
  {
   "cell_type": "markdown",
   "metadata": {},
   "source": [
    "- 인스턴스/객체 : 모델, 데이터셋, 최적화 (, 손실함수, 성능지표)"
   ]
  },
  {
   "cell_type": "code",
   "execution_count": 109,
   "metadata": {},
   "outputs": [
    {
     "name": "stdout",
     "output_type": "stream",
     "text": [
      "(84, 3) (38, 3) (28, 3)\n",
      "(84, 1) (38, 1) (28, 1)\n",
      "<class 'pandas.core.frame.DataFrame'> <class 'pandas.core.frame.DataFrame'> <class 'pandas.core.frame.DataFrame'>\n"
     ]
    }
   ],
   "source": [
    "\n",
    "# 모델 인스턴스\n",
    "model=IrisRegModel() \n",
    "\n",
    "# 데이터셋 인스턴스\n",
    "X_train, X_test, y_train, y_test =train_test_split(featureDF, targetDF, random_state=1)\n",
    "X_train, X_val, y_train, y_val =train_test_split(X_train, y_train, random_state=1)\n",
    "print(f'{X_train.shape} {X_test.shape} {X_val.shape}')\n",
    "print(f'{y_train.shape} {y_test.shape} {y_val.shape}')\n",
    "print(f'{type(X_train)} {type(X_test)} {type(X_val)}')\n",
    "\n",
    "trainDS=IrisDataset(X_train, y_train)\n",
    "valDS=IrisDataset(X_val, y_val)\n",
    "testDS=IrisDataset(X_test, y_test)\n",
    "\n",
    "# 데이터로더 인스턴스\n",
    "trainDL=DataLoader(trainDS, batch_size=BATCH_SIZE)"
   ]
  },
  {
   "cell_type": "code",
   "execution_count": 110,
   "metadata": {},
   "outputs": [
    {
     "name": "stdout",
     "output_type": "stream",
     "text": [
      "torch.Size([10, 3]) torch.Size([10, 1])\n"
     ]
    }
   ],
   "source": [
    "## [테스트]데이터로더와 데이터셋 체크\n",
    "for feature, target in trainDL: \n",
    "    print(feature.shape, target.shape)\n",
    "    break"
   ]
  },
  {
   "cell_type": "code",
   "execution_count": 111,
   "metadata": {},
   "outputs": [],
   "source": [
    "# 최적화 인스턴스 => W,b 텐서 즉, model.parameters() 전달\n",
    "optimizer=optim.Adam(model.parameters(), lr=LR)\n",
    "\n",
    "# 손실함수 인스턴스 => 회귀, MSE, MAE, RMSE ....\n",
    "reqLoss=nn.MSELoss()"
   ]
  },
  {
   "cell_type": "markdown",
   "metadata": {},
   "source": [
    "[5] 학습 진행"
   ]
  },
  {
   "cell_type": "markdown",
   "metadata": {},
   "source": [
    "- >>> 모델 저장 준비"
   ]
  },
  {
   "cell_type": "code",
   "execution_count": 112,
   "metadata": {},
   "outputs": [],
   "source": [
    "### models 폴더 아래 프로젝트 폴더 아래 모델 파일 저장\n",
    "import os\n",
    "\n",
    "\n",
    "# 저장 경로\n",
    "SAVE_PATH='../models/iris/'\n",
    "# 저장 파일명\n",
    "SAVE_FILE='model_train_wbs.pth'\n",
    "\n",
    "# 모델 구조 및 파라미터 모두 저장 파일명명\n",
    "SAVE_MODEL='model_all.pth'"
   ]
  },
  {
   "cell_type": "code",
   "execution_count": 113,
   "metadata": {},
   "outputs": [],
   "source": [
    "# 경로상 폴더 존재 여부 체크\n",
    "if not os.path.exists(SAVE_PATH):\n",
    "    os.makedirs(SAVE_PATH)      # 폴더/폴더/... 하위 폴더까지 생성"
   ]
  },
  {
   "cell_type": "markdown",
   "metadata": {},
   "source": [
    "- >>> 학습 진행"
   ]
  },
  {
   "cell_type": "code",
   "execution_count": 114,
   "metadata": {},
   "outputs": [
    {
     "name": "stdout",
     "output_type": "stream",
     "text": [
      "CNT => 15.0\n"
     ]
    }
   ],
   "source": [
    "## 학습의 효과 확인 손실값과 성능평가값 저장 필요\n",
    "LOSS_HISTORY, SCORE_HISTORY=[[],[]], [[],[]]\n",
    "CNT=irisDS.n_rows/BATCH_SIZE\n",
    "print(f'CNT => {CNT}')\n",
    "\n",
    "## 학습 모니터링/스케줄링 설정 => LOSS_HISTORY, SCORE_HISTORY 활용\n",
    "# => 임계기준 : 10번\n",
    "BREAK_CNT=0\n",
    "LIMIT_VALUE=10\n",
    "\n",
    "\n",
    "for epoch in range(EPOPCH):\n",
    "    # 학습 모드로 모델 설정\n",
    "    model.train()\n",
    "    \n",
    "    # 배치 크기 만큼 데이터 로딩해서 학습 진행\n",
    "    loss_total, score_total=0,0\n",
    "    for featureTS, targetTS in trainDL:\n",
    "        \n",
    "        # 학습 진행\n",
    "        pre_y=model(featureTS)\n",
    "        \n",
    "        # 손실 계산\n",
    "        loss=reqLoss(pre_y, targetTS)\n",
    "        loss_total += loss.item()\n",
    "        \n",
    "        # 성능평가 계산\n",
    "        score=R2Score()(pre_y, targetTS)\n",
    "        score_total += score.item()\n",
    "        \n",
    "        # 최적화 진행\n",
    "        optimizer.zero_grad()\n",
    "        loss.backward()\n",
    "        optimizer.step()\n",
    "        \n",
    "    # 에포크 당 검증기능\n",
    "    # 모델 검증 모드 설정\n",
    "    model.eval()\n",
    "    with torch.no_grad():\n",
    "        # 검증 데이터셋\n",
    "        val_featrueTS=torch.FloatTensor(valDS.featureDF.values)\n",
    "        val_targetTS=torch.FloatTensor(valDS.targetDF.values)\n",
    "        # 추론/평가\n",
    "        pre_val=model(val_featrueTS)\n",
    "        # 손실\n",
    "        loss_val=reqLoss(pre_val, val_targetTS)\n",
    "        # 성능평가\n",
    "        score_val=R2Score()(pre_val, val_targetTS)\n",
    "\n",
    "        \n",
    "    # 에포크 당 손실값과 성능평가값 저장    \n",
    "    LOSS_HISTORY[0].append(loss_total/CNT)\n",
    "    SCORE_HISTORY[0].append(score_total/CNT)\n",
    "    \n",
    "    LOSS_HISTORY[1].append(loss_val)\n",
    "    SCORE_HISTORY[1].append(score_val)\n",
    "\n",
    "    # 학습 진행 모니터링/스케줄링 - 검증 DS 기준\n",
    "    # Loss 기준\n",
    "    if len(LOSS_HISTORY[1]) >= 2:\n",
    "        if LOSS_HISTORY[1][-1] >= LOSS_HISTORY[1][-2]: BREAK_CNT +=1\n",
    "\n",
    "    # Score 기준\n",
    "    # if len(SCORE_HISTORY[1]) >= 2:\n",
    "    #     if SCORE_HISTORY[1][-1] <= SCORE_HISTORY[1][-2]: BREAK_CNT +=1\n",
    "\n",
    "    # 성능이 좋은 학습 가중치 저장\n",
    "    SAVE_FILE=f'model_train_wbs_{epoch}_{score_val}.pth'\n",
    "    if len(SCORE_HISTORY[1]) == 1:\n",
    "        # 첫번째라서 무조건 모델 저장\n",
    "        torch.save(model.state_dict(), SAVE_PATH+SAVE_FILE)\n",
    "        # 모델 전체 저장\n",
    "        torch.save(model, SAVE_PATH+SAVE_MODEL)\n",
    "    else:\n",
    "        if SCORE_HISTORY[1][-1] > max(SCORE_HISTORY[1][:-1]): \n",
    "            torch.save(model.state_dict(), SAVE_PATH+SAVE_FILE)\n",
    "            torch.save(model, SAVE_PATH+SAVE_MODEL)\n",
    "\n",
    "    # 학습 중단 여부 설정\n",
    "    if BREAK_CNT > LIMIT_VALUE:\n",
    "        print(f\"성능 및 손실 개선이 없어서 {epoch} EPOCH에 학습 중단\")\n",
    "        break"
   ]
  },
  {
   "cell_type": "code",
   "execution_count": 115,
   "metadata": {},
   "outputs": [
    {
     "data": {
      "text/plain": [
       "(torch.Size([28, 3]), torch.Size([28, 1]))"
      ]
     },
     "execution_count": 115,
     "metadata": {},
     "output_type": "execute_result"
    }
   ],
   "source": [
    "val_featrueTS=torch.FloatTensor(valDS.featureDF.values)\n",
    "val_targetTS=torch.FloatTensor(valDS.targetDF.values)\n",
    "\n",
    "val_featrueTS.shape, val_targetTS.shape"
   ]
  },
  {
   "cell_type": "code",
   "execution_count": 116,
   "metadata": {},
   "outputs": [
    {
     "name": "stdout",
     "output_type": "stream",
     "text": [
      "CNT => 15.0\n",
      "LOSS_HISTORY => [[1.0794759273529053], [tensor(1.3979)]]\n",
      "SCORE_HISTORY => [[-1.7143045902252196], [tensor(-1.1656)]]\n"
     ]
    }
   ],
   "source": [
    "print(f'CNT => {CNT}')\n",
    "print(f'LOSS_HISTORY => {LOSS_HISTORY}')\n",
    "print(f'SCORE_HISTORY => {SCORE_HISTORY}')"
   ]
  },
  {
   "cell_type": "markdown",
   "metadata": {},
   "source": [
    "- 모델 저장 방법 <hr>\n",
    "* 방법1 : 모델 파라미터만 저장\n",
    "* 방법2 : 모델 설계 구조 및 파라미터까지 모두 저장"
   ]
  },
  {
   "cell_type": "code",
   "execution_count": 117,
   "metadata": {},
   "outputs": [
    {
     "data": {
      "text/plain": [
       "OrderedDict([('in_layer.weight',\n",
       "              tensor([[-0.1462,  0.1941,  0.0485],\n",
       "                      [-0.5247,  0.4645,  0.0414],\n",
       "                      [-0.3814, -0.3677, -0.5208],\n",
       "                      [ 0.3986,  0.5283, -0.4023],\n",
       "                      [-0.5405,  0.5249,  0.1623],\n",
       "                      [ 0.1966, -0.5629, -0.2867],\n",
       "                      [-0.0586,  0.2979, -0.3552],\n",
       "                      [-0.4856,  0.5104, -0.5235],\n",
       "                      [-0.5592, -0.4926,  0.3850],\n",
       "                      [ 0.0592,  0.1808, -0.0944]])),\n",
       "             ('in_layer.bias',\n",
       "              tensor([-0.1613,  0.2998, -0.1063,  0.5346, -0.1362,  0.4976, -0.3429, -0.1709,\n",
       "                       0.2848,  0.5264])),\n",
       "             ('hd_layer.weight',\n",
       "              tensor([[ 0.1952, -0.1906,  0.0870,  0.2190,  0.2959, -0.3026,  0.2439, -0.0675,\n",
       "                        0.1638, -0.0022],\n",
       "                      [ 0.2807, -0.0851,  0.0057,  0.0093,  0.0238, -0.0619,  0.1480,  0.3030,\n",
       "                        0.0887, -0.2029],\n",
       "                      [-0.1284, -0.0708, -0.3085,  0.0781, -0.2506,  0.2037, -0.1240, -0.1666,\n",
       "                       -0.2937, -0.1715],\n",
       "                      [-0.2865, -0.1173, -0.1049,  0.0643, -0.2821, -0.0311, -0.1132,  0.0665,\n",
       "                        0.2424,  0.1745],\n",
       "                      [-0.0751,  0.2290,  0.2671, -0.2000, -0.1003, -0.2147,  0.1472, -0.1801,\n",
       "                       -0.0518, -0.1221],\n",
       "                      [ 0.3003, -0.2063,  0.2360,  0.0828, -0.2050,  0.1809,  0.1006, -0.2692,\n",
       "                       -0.1768, -0.1993],\n",
       "                      [ 0.1365,  0.1793, -0.0410, -0.3041,  0.0275, -0.1816,  0.2551,  0.3137,\n",
       "                        0.1823, -0.3162],\n",
       "                      [-0.1765, -0.0523, -0.1735, -0.1491, -0.3009,  0.1937, -0.2691, -0.0592,\n",
       "                       -0.2809,  0.2999],\n",
       "                      [-0.2314,  0.2437, -0.1401,  0.2879, -0.0585, -0.0088, -0.0978, -0.0815,\n",
       "                       -0.3064,  0.1223],\n",
       "                      [ 0.3062, -0.1139, -0.1778, -0.0145, -0.2964, -0.1677, -0.2256,  0.2574,\n",
       "                        0.0071, -0.1604],\n",
       "                      [ 0.2561, -0.0503, -0.0439, -0.0067, -0.0237, -0.3043, -0.2541, -0.2552,\n",
       "                       -0.0033,  0.2981],\n",
       "                      [-0.3155, -0.3021, -0.1309,  0.1740,  0.1238,  0.0175,  0.1737,  0.2505,\n",
       "                       -0.2283,  0.2962],\n",
       "                      [ 0.0466,  0.1170,  0.2543, -0.0005, -0.0307, -0.2138, -0.1814,  0.2595,\n",
       "                       -0.1740,  0.2906],\n",
       "                      [-0.0534, -0.2478,  0.1345,  0.1291,  0.0959, -0.3064, -0.2931, -0.2303,\n",
       "                       -0.2536,  0.2758],\n",
       "                      [-0.2751, -0.0200, -0.1615, -0.2956, -0.3053, -0.0724,  0.1898,  0.0857,\n",
       "                        0.1167,  0.2214],\n",
       "                      [ 0.2238,  0.1722,  0.2065, -0.1904, -0.2371, -0.2902, -0.1228, -0.2795,\n",
       "                        0.2733,  0.0783],\n",
       "                      [-0.1017,  0.1991,  0.0755,  0.0904, -0.0768,  0.1607, -0.1394, -0.2569,\n",
       "                       -0.0474,  0.2140],\n",
       "                      [-0.0428, -0.2345, -0.3069,  0.1788, -0.1551,  0.0230,  0.1538,  0.0425,\n",
       "                        0.0088,  0.2518],\n",
       "                      [-0.2080,  0.2411, -0.0251,  0.1244, -0.1875,  0.1839, -0.0256,  0.3082,\n",
       "                        0.1777,  0.0719],\n",
       "                      [-0.0734,  0.1117, -0.1504,  0.1361, -0.1044,  0.1230,  0.2783,  0.2936,\n",
       "                        0.1611,  0.0554],\n",
       "                      [-0.0166, -0.1275, -0.1690, -0.2351,  0.1416,  0.0569,  0.2614, -0.2704,\n",
       "                       -0.1178, -0.3128],\n",
       "                      [-0.0866,  0.1905, -0.0266,  0.2893,  0.2738, -0.2356,  0.1212, -0.0205,\n",
       "                       -0.0321, -0.0608],\n",
       "                      [-0.3078,  0.1271, -0.0578,  0.2957, -0.1229, -0.0078,  0.2305, -0.2863,\n",
       "                       -0.2690,  0.1065],\n",
       "                      [ 0.2408, -0.2240,  0.1219,  0.1724, -0.1818,  0.2962,  0.0406,  0.2534,\n",
       "                        0.2257, -0.0773],\n",
       "                      [ 0.2468,  0.1272, -0.0675, -0.2656,  0.2103,  0.0239,  0.2700, -0.2704,\n",
       "                        0.1028, -0.1100],\n",
       "                      [ 0.2494, -0.2196,  0.1965, -0.0713, -0.1756, -0.0126, -0.2737,  0.0935,\n",
       "                       -0.0692, -0.2504],\n",
       "                      [-0.0551, -0.3036, -0.0802,  0.1834, -0.2656, -0.1240,  0.2104, -0.0368,\n",
       "                        0.1636, -0.1339],\n",
       "                      [ 0.2507,  0.1704, -0.1378, -0.2725,  0.1758, -0.2052,  0.2041, -0.3152,\n",
       "                       -0.2428, -0.1295],\n",
       "                      [-0.2648, -0.1686,  0.1304, -0.0539,  0.1153,  0.0422, -0.1749, -0.0904,\n",
       "                       -0.1228, -0.1916],\n",
       "                      [-0.2968,  0.1510,  0.2977, -0.2757,  0.1894, -0.0011,  0.1928,  0.2923,\n",
       "                        0.1222, -0.1036]])),\n",
       "             ('hd_layer.bias',\n",
       "              tensor([-0.2125,  0.0904, -0.2383,  0.0598,  0.1022, -0.2621,  0.0594,  0.1146,\n",
       "                       0.2379,  0.1583, -0.0144, -0.2568,  0.2552, -0.2321,  0.2613, -0.2553,\n",
       "                      -0.0416, -0.1224,  0.0671, -0.2228,  0.3065,  0.1071,  0.1606,  0.2730,\n",
       "                      -0.1588, -0.2763,  0.2460, -0.2412,  0.2354,  0.0540])),\n",
       "             ('out_layer.weight',\n",
       "              tensor([[-8.0449e-02,  7.0244e-02,  7.5459e-05,  8.9115e-02, -3.6497e-02,\n",
       "                       -1.2573e-01,  6.5171e-02, -9.0414e-02,  1.5642e-01, -9.2760e-02,\n",
       "                        1.7890e-01, -8.7586e-02, -1.4366e-01, -8.0571e-02,  7.7436e-02,\n",
       "                       -1.7324e-01,  1.8346e-01,  1.1219e-01, -1.3172e-01,  1.4684e-01,\n",
       "                       -1.2401e-01, -1.3337e-01,  1.2868e-01, -7.6172e-02, -9.0833e-02,\n",
       "                       -1.4323e-01,  1.2119e-01, -1.2697e-01,  1.6520e-01,  1.5158e-01]])),\n",
       "             ('out_layer.bias', tensor([0.0028]))])"
      ]
     },
     "execution_count": 117,
     "metadata": {},
     "output_type": "execute_result"
    }
   ],
   "source": [
    "### 학습된 모델 파라미터 값 확인\n",
    "model.state_dict()"
   ]
  },
  {
   "cell_type": "markdown",
   "metadata": {},
   "source": [
    "- [방법 1] 모델 파라미터 즉, 층별 가중치와 절편들"
   ]
  },
  {
   "cell_type": "code",
   "execution_count": 118,
   "metadata": {},
   "outputs": [],
   "source": [
    "# 모델 저장\n",
    "torch.save(model.state_dict(), SAVE_PATH+SAVE_FILE)"
   ]
  },
  {
   "cell_type": "code",
   "execution_count": 119,
   "metadata": {},
   "outputs": [
    {
     "name": "stdout",
     "output_type": "stream",
     "text": [
      "<class 'collections.OrderedDict'>\n"
     ]
    }
   ],
   "source": [
    "# 모델 즉, 가중치와 절편 로딩\n",
    "# [1] 가중치와 절편 객체로 로딩\n",
    "# [2] 모델의 state_dict 속성에 저장\n",
    "\n",
    "# 읽기 \n",
    "wbTS=torch.load(SAVE_PATH+SAVE_FILE, weights_only=True)\n",
    "\n",
    "print(type(wbTS))"
   ]
  },
  {
   "cell_type": "code",
   "execution_count": 120,
   "metadata": {},
   "outputs": [
    {
     "data": {
      "text/plain": [
       "<All keys matched successfully>"
      ]
     },
     "execution_count": 120,
     "metadata": {},
     "output_type": "execute_result"
    }
   ],
   "source": [
    "# 모델 인스턴스에 저장\n",
    "model2=IrisRegModel()       # 층마다 W, b 초기화\n",
    "model2.load_state_dict(wbTS)"
   ]
  },
  {
   "cell_type": "code",
   "execution_count": 121,
   "metadata": {},
   "outputs": [
    {
     "name": "stdout",
     "output_type": "stream",
     "text": [
      "IrisRegModel(\n",
      "  (in_layer): Linear(in_features=3, out_features=10, bias=True)\n",
      "  (hd_layer): Linear(in_features=10, out_features=30, bias=True)\n",
      "  (out_layer): Linear(in_features=30, out_features=1, bias=True)\n",
      ")\n"
     ]
    }
   ],
   "source": [
    "print(model2)"
   ]
  },
  {
   "cell_type": "code",
   "execution_count": null,
   "metadata": {},
   "outputs": [],
   "source": []
  }
 ],
 "metadata": {
  "kernelspec": {
   "display_name": "TORCH_38",
   "language": "python",
   "name": "python3"
  },
  "language_info": {
   "codemirror_mode": {
    "name": "ipython",
    "version": 3
   },
   "file_extension": ".py",
   "mimetype": "text/x-python",
   "name": "python",
   "nbconvert_exporter": "python",
   "pygments_lexer": "ipython3",
   "version": "3.8.19"
  }
 },
 "nbformat": 4,
 "nbformat_minor": 2
}
