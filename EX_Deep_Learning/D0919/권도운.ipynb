{
 "cells": [
  {
   "cell_type": "markdown",
   "metadata": {},
   "source": [
    "1. 퍼셉트론의 개념에 대해 설명하세요"
   ]
  },
  {
   "cell_type": "markdown",
   "metadata": {},
   "source": [
    "- 퍼셉트론은 기본적인 인공신경망의 모델로서 다수 입력으로 하나의 결과를 도출하는 알고리즘"
   ]
  },
  {
   "cell_type": "markdown",
   "metadata": {},
   "source": [
    "2. 퍼셉트론의 기본 동작 원리 및 수식을 도식화와 함께 작성해주세요"
   ]
  },
  {
   "cell_type": "markdown",
   "metadata": {},
   "source": [
    "- y=X0*W0+X1*W1+...+Xn*Wn+b"
   ]
  },
  {
   "cell_type": "markdown",
   "metadata": {},
   "source": [
    "3. 활성화함수의 역할을 설명하세요"
   ]
  },
  {
   "cell_type": "markdown",
   "metadata": {},
   "source": [
    "- 입력 신호의 총합을 비선형 함수를 이용하여 출력함수로 바꾸는 역할을 함"
   ]
  },
  {
   "cell_type": "markdown",
   "metadata": {},
   "source": [
    "4. 대표적인 활성화함수에 대해 설명하세요\n",
    "    - 최소 4개 이상, 값의 범위"
   ]
  },
  {
   "cell_type": "markdown",
   "metadata": {},
   "source": [
    "- ReLU : 0~1, 음수를 0으로 처리해서 죽은 ReLU문제가 발생할 수 있음\n",
    "- LeakyReLU : ReLU의 문제를 해결하기 위해 사용\n",
    "- Sigmoid : 0~1, 기울기 소멸 문제 발생\n",
    "- tanh 함수 : -1~1"
   ]
  },
  {
   "cell_type": "markdown",
   "metadata": {},
   "source": [
    "5. 경사하강법의 개념 및 대표적인 경사하강법 알고리즘에 대해 간략히 설명하시오\n",
    "    - 최소 3개"
   ]
  },
  {
   "cell_type": "markdown",
   "metadata": {},
   "source": [
    "- 조금씩 오차를 줄여가며 반복적으로 가중치를 개선해가며 최적의 가중치를 찾는 방법\n",
    "    * 배치 경사 하강법 : 전체 데이터 샘플의 기울기 계산\n",
    "    * 확률적 경사 하강법 : 하나의 iteration 안에서 하나의 데이터에 대해서만 기울기 계산\n",
    "    * 미니배치 경사 하강법 : 설정한 미니배치 사이즈 만큼 기울기 계산"
   ]
  },
  {
   "cell_type": "markdown",
   "metadata": {},
   "source": [
    "6. 회귀 모델 구현을 간략하게 코드 작성하세요\n",
    "    - 피쳐 3개"
   ]
  },
  {
   "cell_type": "code",
   "execution_count": 2,
   "metadata": {},
   "outputs": [],
   "source": [
    "import torch                            \n",
    "import torch.nn as nn              \n",
    "import torch.nn.functional as F        \n",
    "import torch.optim as optim  "
   ]
  },
  {
   "cell_type": "code",
   "execution_count": 3,
   "metadata": {},
   "outputs": [
    {
     "data": {
      "text/plain": [
       "<torch._C.Generator at 0x11ff742b2f0>"
      ]
     },
     "execution_count": 3,
     "metadata": {},
     "output_type": "execute_result"
    }
   ],
   "source": [
    "torch.manual_seed(1)"
   ]
  },
  {
   "cell_type": "markdown",
   "metadata": {},
   "source": [
    "7. 이진분류 모델 구현을 간략하게 코드 작성하세요\n",
    "    - 피쳐 5개, 클래스 2개, 층 4개"
   ]
  },
  {
   "cell_type": "markdown",
   "metadata": {},
   "source": [
    "8. 다중분류 모델 구현을 간략하게 코드 작성하세요\n",
    "    - 피쳐 5개, 클래스 8개, 층 3~5개, 퍼셉트론 동적"
   ]
  },
  {
   "cell_type": "markdown",
   "metadata": {},
   "source": [
    "9. 기울기 소실 개념 및 해결 방법을 설명하세요\n",
    "\n",
    "- 딥러닝을 할 때 레이어가 많아질 수록 활성화 함수를 사용할 때 값이 지나치게 작아지는 현상이 발생하여 LeakyReLu를 사용하여 0 대신 작은 값을 주도록 하여 기울기 소실 문제를 해결함"
   ]
  },
  {
   "cell_type": "markdown",
   "metadata": {},
   "source": [
    "10. 파이토치의 모델 동작 모드에 대해 관련 함수도 함께 설명하세요"
   ]
  },
  {
   "cell_type": "markdown",
   "metadata": {},
   "source": [
    "ㅜㅜ"
   ]
  }
 ],
 "metadata": {
  "kernelspec": {
   "display_name": "TORCH_38",
   "language": "python",
   "name": "python3"
  },
  "language_info": {
   "codemirror_mode": {
    "name": "ipython",
    "version": 3
   },
   "file_extension": ".py",
   "mimetype": "text/x-python",
   "name": "python",
   "nbconvert_exporter": "python",
   "pygments_lexer": "ipython3",
   "version": "3.8.19"
  }
 },
 "nbformat": 4,
 "nbformat_minor": 2
}
