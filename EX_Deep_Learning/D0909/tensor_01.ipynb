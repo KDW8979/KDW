{
 "cells": [
  {
   "cell_type": "markdown",
   "metadata": {},
   "source": [
    "#### Tensor 이해 - 생성\n",
    "- Tensor란? \n",
    "    * pytorch에서 데이터를 저장하는 객체\n",
    "    * 모델에 입력/출력 데이터 형태"
   ]
  },
  {
   "cell_type": "markdown",
   "metadata": {},
   "source": [
    "데이터타입 변수명 = 데이터\n",
    "int age = 10\n",
    "\n",
    "기본 데이터 타입 => 숫자, 글자 ==> int, float, char, bool \n",
    "- C/C+++/C#/JAVA ==> 스택\n",
    "- python => 힙(클래스기반 객체)\n",
    "\n",
    "확장 데이터 타입 => 여러 개의 기본 데이터 타입 모여서 하나의 데이터 표현 [string]\n",
    "C => 구조체\n",
    "Java 외 OOP => 구조체 + 함수 => 클래스\n",
    "- C/C++/C#/JAVA/Python ==> 힙(클래스기반 객체)"
   ]
  },
  {
   "cell_type": "markdown",
   "metadata": {},
   "source": [
    "- 정수 int ==> 크기 다양\n",
    "* byte => 8비트 => 256개 => int8/unit8\n",
    "\n",
    "- 부호(-/+) : -128 ~ 0 ~ 127  : -2^7 ~ 2^7 -1\n",
    "- 부호 X    : 0 ~ 255 ==> (이미지데이터 픽셀 색상값)\n",
    "* short => 16비트 ==> -2^15 ~ + 2^15-1 ==>int16/unit16\n",
    "* int => 32비트 ==> int32/unit32  -2^31 ~ 2^31 -1\n",
    "* long int => 64비트 ==> int64/unit64  -2^63 ~ 2^63 -1\n",
    "\n",
    "- 실수 3.12 ====> 정수부 3, 실수부 12\n",
    "- 실수 float => 소수점 이하 자릿수\n",
    "* float => 7/8                  4바이트 int32\n",
    "* double => float 소수점 2배     8바이트 double"
   ]
  },
  {
   "cell_type": "code",
   "execution_count": 4,
   "metadata": {},
   "outputs": [
    {
     "name": "stdout",
     "output_type": "stream",
     "text": [
      "torch v.2.4.1\n"
     ]
    }
   ],
   "source": [
    "import torch\n",
    "\n",
    "print(f'torch v.{torch.__version__}')"
   ]
  },
  {
   "cell_type": "code",
   "execution_count": 2,
   "metadata": {},
   "outputs": [],
   "source": [
    "def printInfo(obj, obj_name):\n",
    "    print(f'\\n[{obj_name}]')\n",
    "    print(f'shape : {obj.shape}')\n",
    "    print(f'ndim : {obj.ndim}차원')\n",
    "    print(f'dtype : {obj.dtype}')\n",
    "    print(f'device : {obj.device}')\n",
    "    print(f'data :\\n{obj.data}')"
   ]
  },
  {
   "cell_type": "markdown",
   "metadata": {},
   "source": [
    "- 텐서 생성 [1] torch.tensor()"
   ]
  },
  {
   "cell_type": "code",
   "execution_count": 3,
   "metadata": {},
   "outputs": [
    {
     "name": "stdout",
     "output_type": "stream",
     "text": [
      "\n",
      "[ten1]\n",
      "shape : torch.Size([])\n",
      "ndim : 0차원\n",
      "dtype : torch.int64\n",
      "device : cpu\n",
      "data :\n",
      "10\n",
      "\n",
      "[ten2]\n",
      "shape : torch.Size([3])\n",
      "ndim : 1차원\n",
      "dtype : torch.int64\n",
      "device : cpu\n",
      "data :\n",
      "tensor([22, 33, 44])\n",
      "\n",
      "[ten3]\n",
      "shape : torch.Size([3, 2])\n",
      "ndim : 2차원\n",
      "dtype : torch.int64\n",
      "device : cpu\n",
      "data :\n",
      "tensor([[90, 91],\n",
      "        [80, 81],\n",
      "        [70, 71]])\n"
     ]
    }
   ],
   "source": [
    "# 생성 형식 : torch.tensor(데이터)\n",
    "ten1=torch.tensor(10)\n",
    "ten2=torch.tensor([22,33,44])\n",
    "ten3=torch.tensor([[90,91], [80,81], [70,71]])\n",
    "\n",
    "# 텐서 정보 출력\n",
    "printInfo(ten1, 'ten1')\n",
    "printInfo(ten2, 'ten2')\n",
    "printInfo(ten3, 'ten3')"
   ]
  },
  {
   "cell_type": "code",
   "execution_count": 8,
   "metadata": {},
   "outputs": [
    {
     "name": "stdout",
     "output_type": "stream",
     "text": [
      "\n",
      "[dataTF]\n",
      "shape : torch.Size([])\n",
      "ndim : 0차원\n",
      "dtype : torch.int64\n",
      "device : cpu\n",
      "data :\n",
      "10\n",
      "\n",
      "[dataTF]\n",
      "shape : torch.Size([])\n",
      "ndim : 0차원\n",
      "dtype : torch.uint8\n",
      "device : cpu\n",
      "data :\n",
      "10\n"
     ]
    }
   ],
   "source": [
    "## 데이터 1개 즉, 스칼라\n",
    "dataTF=torch.tensor(10)\n",
    "printInfo(dataTF, 'dataTF')\n",
    "\n",
    "dataTF=torch.tensor(10, dtype=torch.uint8) \n",
    "printInfo(dataTF, 'dataTF')"
   ]
  },
  {
   "cell_type": "code",
   "execution_count": 9,
   "metadata": {},
   "outputs": [
    {
     "name": "stdout",
     "output_type": "stream",
     "text": [
      "\n",
      "[dataTF]\n",
      "shape : torch.Size([1])\n",
      "ndim : 1차원\n",
      "dtype : torch.int64\n",
      "device : cpu\n",
      "data :\n",
      "tensor([10])\n",
      "\n",
      "[dataTF]\n",
      "shape : torch.Size([1])\n",
      "ndim : 1차원\n",
      "dtype : torch.uint8\n",
      "device : cpu\n",
      "data :\n",
      "tensor([10], dtype=torch.uint8)\n"
     ]
    }
   ],
   "source": [
    "## 데이터 1개 즉, 벡터 1D\n",
    "dataTF=torch.tensor([10])\n",
    "printInfo(dataTF, 'dataTF')\n",
    "\n",
    "dataTF=torch.tensor([10], dtype=torch.uint8) \n",
    "printInfo(dataTF, 'dataTF')"
   ]
  },
  {
   "cell_type": "code",
   "execution_count": 10,
   "metadata": {},
   "outputs": [
    {
     "name": "stdout",
     "output_type": "stream",
     "text": [
      "\n",
      "[dataTF]\n",
      "shape : torch.Size([1, 1])\n",
      "ndim : 2차원\n",
      "dtype : torch.int64\n",
      "device : cpu\n",
      "data :\n",
      "tensor([[10]])\n",
      "\n",
      "[dataTF]\n",
      "shape : torch.Size([2, 1])\n",
      "ndim : 2차원\n",
      "dtype : torch.uint8\n",
      "device : cpu\n",
      "data :\n",
      "tensor([[10],\n",
      "        [20]], dtype=torch.uint8)\n"
     ]
    }
   ],
   "source": [
    "## 데이터 1개 즉, 행렬 2D\n",
    "dataTF=torch.tensor([[10]])\n",
    "printInfo(dataTF, 'dataTF')\n",
    "\n",
    "dataTF=torch.tensor([[10],[20]], dtype=torch.uint8) \n",
    "printInfo(dataTF, 'dataTF')"
   ]
  },
  {
   "cell_type": "code",
   "execution_count": 12,
   "metadata": {},
   "outputs": [
    {
     "name": "stdout",
     "output_type": "stream",
     "text": [
      "\n",
      "[dataTF]\n",
      "shape : torch.Size([1, 1, 1])\n",
      "ndim : 3차원\n",
      "dtype : torch.int64\n",
      "device : cpu\n",
      "data :\n",
      "tensor([[[10]]])\n",
      "\n",
      "[dataTF]\n",
      "shape : torch.Size([1, 1, 2, 1])\n",
      "ndim : 4차원\n",
      "dtype : torch.uint8\n",
      "device : cpu\n",
      "data :\n",
      "tensor([[[[10],\n",
      "          [20]]]], dtype=torch.uint8)\n"
     ]
    }
   ],
   "source": [
    "## 데이터 1개 즉, 행렬 ND\n",
    "dataTF=torch.tensor([[[10]]])\n",
    "printInfo(dataTF, 'dataTF')\n",
    "\n",
    "dataTF=torch.tensor([[[[10],[20]]]], dtype=torch.uint8) \n",
    "printInfo(dataTF, 'dataTF')"
   ]
  },
  {
   "cell_type": "code",
   "execution_count": null,
   "metadata": {},
   "outputs": [],
   "source": []
  }
 ],
 "metadata": {
  "kernelspec": {
   "display_name": "TORCH_38",
   "language": "python",
   "name": "python3"
  },
  "language_info": {
   "codemirror_mode": {
    "name": "ipython",
    "version": 3
   },
   "file_extension": ".py",
   "mimetype": "text/x-python",
   "name": "python",
   "nbconvert_exporter": "python",
   "pygments_lexer": "ipython3",
   "version": "3.8.19"
  }
 },
 "nbformat": 4,
 "nbformat_minor": 2
}
