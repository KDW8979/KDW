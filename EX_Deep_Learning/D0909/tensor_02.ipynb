{
 "cells": [
  {
   "cell_type": "markdown",
   "metadata": {},
   "source": [
    "Tensor 이해"
   ]
  },
  {
   "cell_type": "code",
   "execution_count": 1,
   "metadata": {},
   "outputs": [],
   "source": [
    "### 모듈 로딩\n",
    "import torch"
   ]
  },
  {
   "cell_type": "markdown",
   "metadata": {},
   "source": [
    "- Tensor 생성 [2] torch.rand()"
   ]
  },
  {
   "cell_type": "code",
   "execution_count": 8,
   "metadata": {},
   "outputs": [],
   "source": [
    "# 0 <= ~ < 1 범위의 임의의 숫자를 1개 추출 => rand(*size)\n",
    "# rand(*size) : 가변인자 ==> 몇 차원인지 알 수 없음!\n",
    "torch.manual_seed(1)\n",
    "\n",
    "dataTS1=torch.rand(3)       #1D Vector\n",
    "dataTS2=torch.rand(2,3)     #2D Matrix\n",
    "dataTS3=torch.rand(2,2,3)   #3D 3D Tensor\n"
   ]
  },
  {
   "cell_type": "code",
   "execution_count": 11,
   "metadata": {},
   "outputs": [
    {
     "name": "stdout",
     "output_type": "stream",
     "text": [
      "tensor([0.7576, 0.2793, 0.4031])\n",
      "tensor([[0.7347, 0.0293, 0.7999],\n",
      "        [0.3971, 0.7544, 0.5695]])\n",
      "tensor([[[0.4388, 0.6387, 0.5247],\n",
      "         [0.6826, 0.3051, 0.4635]],\n",
      "\n",
      "        [[0.4550, 0.5725, 0.4980],\n",
      "         [0.9371, 0.6556, 0.3138]]])\n"
     ]
    }
   ],
   "source": [
    "print(dataTS1, dataTS2, dataTS3, sep='\\n')"
   ]
  },
  {
   "cell_type": "markdown",
   "metadata": {},
   "source": [
    "- Tensor 생성 [3] torch.randn()"
   ]
  },
  {
   "cell_type": "code",
   "execution_count": 14,
   "metadata": {},
   "outputs": [
    {
     "name": "stdout",
     "output_type": "stream",
     "text": [
      "tensor([-0.5581, -0.3964,  1.4130])\n",
      "tensor([[-2.6119, -1.6396,  2.3906],\n",
      "        [-0.5024,  0.0476, -1.1322]])\n",
      "tensor([[[-0.0179,  0.1280, -0.5552]],\n",
      "\n",
      "        [[-0.4575, -1.9599, -1.1242]]])\n"
     ]
    }
   ],
   "source": [
    "dataTS1=torch.randn(3)       #1D Vector\n",
    "dataTS2=torch.randn(2,3)     #2D Matrix\n",
    "dataTS3=torch.randn(2,1,3)   #3D 3D Tensor\n",
    "\n",
    "print(dataTS1, dataTS2, dataTS3, sep='\\n')"
   ]
  },
  {
   "cell_type": "markdown",
   "metadata": {},
   "source": [
    "- Tensor 생성 [4] torch.randint()"
   ]
  },
  {
   "cell_type": "code",
   "execution_count": 17,
   "metadata": {},
   "outputs": [
    {
     "data": {
      "text/plain": [
       "tensor([[44, 38, 11,  1, 45, 22],\n",
       "        [45, 35, 25, 21, 32, 25],\n",
       "        [ 2, 36, 33, 33, 13, 14],\n",
       "        [ 4, 19, 36, 40, 44, 15]])"
      ]
     },
     "execution_count": 17,
     "metadata": {},
     "output_type": "execute_result"
    }
   ],
   "source": [
    "torch.randint(1,46,(4,6))"
   ]
  },
  {
   "cell_type": "code",
   "execution_count": null,
   "metadata": {},
   "outputs": [],
   "source": []
  }
 ],
 "metadata": {
  "kernelspec": {
   "display_name": "TORCH_38",
   "language": "python",
   "name": "python3"
  },
  "language_info": {
   "codemirror_mode": {
    "name": "ipython",
    "version": 3
   },
   "file_extension": ".py",
   "mimetype": "text/x-python",
   "name": "python",
   "nbconvert_exporter": "python",
   "pygments_lexer": "ipython3",
   "version": "3.8.19"
  }
 },
 "nbformat": 4,
 "nbformat_minor": 2
}
