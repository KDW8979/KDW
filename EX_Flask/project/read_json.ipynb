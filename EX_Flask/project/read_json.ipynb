{
 "cells": [
  {
   "cell_type": "code",
   "execution_count": 5,
   "metadata": {},
   "outputs": [],
   "source": [
    "# 모듈 로딩\n",
    "import os\n",
    "import json\n",
    "import re\n",
    "import string\n",
    "import glob\n",
    "import pandas as pd"
   ]
  },
  {
   "cell_type": "code",
   "execution_count": 17,
   "metadata": {},
   "outputs": [],
   "source": [
    "# 건강 관련 파일에서 데이터를 추출\n",
    "def load_health_data_from_folder(folder_path):\n",
    "    subjects = []\n",
    "    texts = []\n",
    "    \n",
    "    # 폴더에서 _17.json으로 끝나는 파일들 검색\n",
    "    files = glob.glob(os.path.join(folder_path, '**', '*_17.json'), recursive=True)\n",
    "    \n",
    "    for file in files:\n",
    "        with open(file, 'r', encoding='utf-8') as f:\n",
    "            data = json.load(f)\n",
    "            \n",
    "            # 파일에서 subject와 text 추출\n",
    "            for item in data['info']:\n",
    "                subject = item['annotations'].get('subject', 'No Subject')  # subject 필드\n",
    "                lines = item['annotations'].get('lines', [])  # 대화 내용이 있는 lines 필드\n",
    "                \n",
    "                # 대화 내용 추출 (각 text 필드)\n",
    "                for line in lines:\n",
    "                    text = line.get('norm_text', 'No Text')\n",
    "                    subjects.append(subject)\n",
    "                    texts.append(text)\n",
    "    \n",
    "    # DataFrame 생성\n",
    "    health_df = pd.DataFrame({\n",
    "        'Subject': subjects,\n",
    "        'text': texts\n",
    "    })\n",
    "\n",
    "    \n",
    "    return health_df\n",
    "\n",
    "# 폴더 경로 설정\n",
    "root_folder_path = r\"C:\\Users\\kdp\\Desktop\\KDW\\EX_FLASK\\project\\020.주제별_텍스트_일상_대화_데이터\\01.데이터\\1.Training\\라벨링데이터\"\n",
    "\n",
    "# 건강 톡 불러오기\n",
    "health_data = load_health_data_from_folder(root_folder_path)\n",
    "\n",
    "# 건강 관련 톡을 CSV 파일로 저장\n",
    "health_data.to_csv('건강관련톡.csv', index=False, encoding='utf-8-sig')\n",
    "\n",
    "\n"
   ]
  },
  {
   "cell_type": "code",
   "execution_count": null,
   "metadata": {},
   "outputs": [],
   "source": []
  }
 ],
 "metadata": {
  "kernelspec": {
   "display_name": "TORCH_TEXT",
   "language": "python",
   "name": "python3"
  },
  "language_info": {
   "codemirror_mode": {
    "name": "ipython",
    "version": 3
   },
   "file_extension": ".py",
   "mimetype": "text/x-python",
   "name": "python",
   "nbconvert_exporter": "python",
   "pygments_lexer": "ipython3",
   "version": "3.8.19"
  }
 },
 "nbformat": 4,
 "nbformat_minor": 2
}
