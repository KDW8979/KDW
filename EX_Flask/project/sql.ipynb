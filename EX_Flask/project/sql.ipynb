{
 "cells": [
  {
   "cell_type": "code",
   "execution_count": 2,
   "metadata": {},
   "outputs": [
    {
     "name": "stderr",
     "output_type": "stream",
     "text": [
      "C:\\Users\\kdp\\AppData\\Local\\Temp\\ipykernel_4328\\3316037073.py:17: UserWarning: pandas only supports SQLAlchemy connectable (engine/connection) or database string URI or sqlite3 DBAPI2 connection. Other DBAPI2 objects are not tested. Please consider using SQLAlchemy.\n",
      "  df = pd.read_sql(query, connection)\n"
     ]
    },
    {
     "name": "stdout",
     "output_type": "stream",
     "text": [
      "          id category                         text\n",
      "0          0       건강  뭐 서양 약 들 로 처방 받으면 건강 더 안 좋아\n",
      "1          1       건강           남성 쪽 으로 건강 안 좋나 보네\n",
      "2          2       건강                  뭔 데 자신감 넘치네\n",
      "3          3       건강             쟤 한테 물어보면 될 거 아냐\n",
      "4          4       건강          난 탈모 약 좀 먹어야 될 거 같아\n",
      "...      ...      ...                          ...\n",
      "63177  63177       건강          그래서 닭 가슴 살 요즘 먹고 있어\n",
      "63178  63178       건강                          안질려\n",
      "63179  63179       건강       것 저 것 해서 먹으면 그나마 조금 나아\n",
      "63180  63180       건강           나도 닭 가슴 살 주문 해봐야겠다\n",
      "63181  63181       건강     언니 닭 가슴 살 먹으면서 다이어트 도전 해\n",
      "\n",
      "[63182 rows x 3 columns]\n"
     ]
    }
   ],
   "source": [
    "import pymysql\n",
    "import pandas as pd\n",
    "\n",
    "# MySQL 연결 설정\n",
    "connection = pymysql.connect(\n",
    "    host= '172.20.60.151',      # MySQL 서버 주소\n",
    "    user='dowoon',  \n",
    "    password='1234',  \n",
    "    db='web_project',    \n",
    "    # charset='utf8',     \n",
    "    # cursorclass=pymysql.cursors.DictCursor\n",
    ")\n",
    "\n",
    "try:\n",
    "   \n",
    "    query = \"SELECT id,category,text FROM health\"  \n",
    "    df = pd.read_sql(query, connection)\n",
    "\n",
    "    # 결과 출력 (DataFrame)\n",
    "    print(df)\n",
    "\n",
    "finally:\n",
    "    # 연결 종료\n",
    "    connection.close()"
   ]
  },
  {
   "cell_type": "code",
   "execution_count": null,
   "metadata": {},
   "outputs": [],
   "source": []
  }
 ],
 "metadata": {
  "kernelspec": {
   "display_name": "TORCH_TEXT",
   "language": "python",
   "name": "python3"
  },
  "language_info": {
   "codemirror_mode": {
    "name": "ipython",
    "version": 3
   },
   "file_extension": ".py",
   "mimetype": "text/x-python",
   "name": "python",
   "nbconvert_exporter": "python",
   "pygments_lexer": "ipython3",
   "version": "3.8.19"
  }
 },
 "nbformat": 4,
 "nbformat_minor": 2
}
