{
 "cells": [
  {
   "cell_type": "code",
   "execution_count": null,
   "metadata": {},
   "outputs": [],
   "source": [
    "import csv\n",
    "import matplotlib.pyplot as plt\n",
    "import koreanize_matplotlib\n",
    "import re\n",
    "\n",
    "f= open('gender.csv', encoding='euc_kr')\n",
    "data=csv.reader(f)\n",
    "\n",
    "city_list=['대구광역시', '대구광역시 중구', '대구광역시 동구', '대구광역시 서구', '대구광역시 남구', '대구광역시 북구', '대구광역시 수성구',\n",
    "      '대구광역시 달서구', '대구광역시 달성군', '대구광역시 군위군']\n",
    "male_count=0\n",
    "female_count=0\n",
    "\n",
    "for row in data:\n",
    "    for i in range(1,len(city_list)):\n",
    "        if city_list[i] in row[0]:\n",
    "            male_count=int(row[104].replace(',',''))\n",
    "            female_count=int(row[207].replace(',',''))\n",
    "            print(f'{city_list[i]}: (남: {male_count} 여: {female_count})')\n",
    "            break\n",
    "\n",
    "def draw_pie_chart():\n",
    "    fig,ax=plt.subplot(5,2)\n",
    "    for i in range(1,6):\n",
    "        for j in range(2):\n",
    "            ax[i,j].pie(data)"
   ]
  }
 ],
 "metadata": {
  "kernelspec": {
   "display_name": "PY_39",
   "language": "python",
   "name": "python3"
  },
  "language_info": {
   "name": "python",
   "version": "3.9.19"
  }
 },
 "nbformat": 4,
 "nbformat_minor": 2
}
