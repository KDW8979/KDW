{
 "cells": [
  {
   "cell_type": "code",
   "execution_count": 1,
   "metadata": {},
   "outputs": [],
   "source": [
    "import pandas as pd"
   ]
  },
  {
   "cell_type": "code",
   "execution_count": 2,
   "metadata": {},
   "outputs": [
    {
     "name": "stdout",
     "output_type": "stream",
     "text": [
      "Index(['날짜', '지점', '평균기온(℃)', '최저기온(℃)', '최고기온(℃)'], dtype='object')\n",
      "object\n"
     ]
    }
   ],
   "source": [
    "weather_df=pd.read_csv('daegu-utf-8.csv', encoding='utf-8-sig')\n",
    "print(weather_df.columns)\n",
    "print(weather_df['날짜'].dtype) # 날짜 컬럼은 object 타입"
   ]
  },
  {
   "cell_type": "code",
   "execution_count": 5,
   "metadata": {},
   "outputs": [
    {
     "name": "stdout",
     "output_type": "stream",
     "text": [
      "Index(['날짜', '지점', '평균기온', '최저기온', '최고기온'], dtype='object')\n"
     ]
    }
   ],
   "source": [
    "weather_df.columns=['날짜', '지점', '평균기온', '최저기온', '최고기온']\n",
    "print(weather_df.columns)"
   ]
  },
  {
   "cell_type": "code",
   "execution_count": 6,
   "metadata": {},
   "outputs": [
    {
     "name": "stdout",
     "output_type": "stream",
     "text": [
      "datetime64[ns]\n"
     ]
    }
   ],
   "source": [
    "weather_df['날짜']=pd.to_datetime(weather_df['날짜'], format='%Y-%m-%d')\n",
    "print(weather_df['날짜'].dtype)"
   ]
  },
  {
   "cell_type": "code",
   "execution_count": 7,
   "metadata": {},
   "outputs": [
    {
     "name": "stdout",
     "output_type": "stream",
     "text": [
      "          날짜     지점  평균기온  최저기온  최고기온\n",
      "0 1907-01-31  143.0   NaN  -7.0   0.8\n",
      "1 1907-02-01  143.0   NaN   NaN   NaN\n",
      "2 1907-02-02  143.0   NaN   NaN   NaN\n",
      "3 1907-02-03  143.0   NaN   NaN   NaN\n",
      "4 1907-02-04  143.0   NaN   NaN   NaN\n",
      "(42887, 5)\n",
      "날짜        1\n",
      "지점        1\n",
      "평균기온    704\n",
      "최저기온    630\n",
      "최고기온    632\n",
      "dtype: int64\n"
     ]
    }
   ],
   "source": [
    "print(weather_df.head())\n",
    "print(weather_df.shape)\n",
    "num_rows=weather_df.shape[0]    # shape(row, col), shape[0]: row의 개수\n",
    "num_missing=num_rows-weather_df.count() #count(): 정상값의 개수\n",
    "print(num_missing)\n"
   ]
  },
  {
   "cell_type": "markdown",
   "metadata": {},
   "source": [
    " ### 결측치(NaN) 처리\n",
    "    • dropna(axis):\t결측치 제거\n",
    "    – axis=0:\tNan이 포함된 행 제거(각 column에서 row방향으로 동작),\n",
    "    – axis=1:\tNan이 포함된 열 제거(각 row에서 column방향으로 동작)\n",
    "    • fillna(0):\t결측치을 0으로 변경\n",
    "    • fillna(method=‘ffill’):\t이전 값으로 변경(forward\tfill)\n",
    "    • fillna(method=‘bfill’):\t이후 값으로 변경(backward\tfill)\n",
    "    • interpolate():\t결측치 양쪽의 값으로 중간값 계산"
   ]
  },
  {
   "cell_type": "code",
   "execution_count": 8,
   "metadata": {},
   "outputs": [
    {
     "name": "stdout",
     "output_type": "stream",
     "text": [
      "날짜      42180\n",
      "지점      42180\n",
      "평균기온    42180\n",
      "최저기온    42180\n",
      "최고기온    42180\n",
      "dtype: int64\n",
      "            날짜     지점  평균기온  최저기온  최고기온\n",
      "701 1909-01-01  143.0  -4.1  -8.0   0.1\n",
      "702 1909-01-02  143.0  -0.8  -6.7   6.1\n",
      "703 1909-01-03  143.0   1.0  -2.4   3.6\n",
      "704 1909-01-04  143.0   4.2   0.0   9.2\n",
      "705 1909-01-05  143.0   3.4  -0.4   9.0\n"
     ]
    }
   ],
   "source": [
    "weather_df=weather_df.dropna(axis=0)\n",
    "print(weather_df.count())\n",
    "print(weather_df.head())"
   ]
  },
  {
   "cell_type": "markdown",
   "metadata": {},
   "source": [
    "#### - 결측치를 제거한 최종 데이터를 csv파일로 저장\n",
    "• index\t=\tFalse:\t인덱스 항목 저장 안함\n",
    "\n",
    "• encoding=‘utf-8-sig’ (euc_kr이 아닌 utf-8로 저장)"
   ]
  },
  {
   "cell_type": "code",
   "execution_count": 9,
   "metadata": {},
   "outputs": [],
   "source": [
    "weather_df.to_csv('daegu-utf8-df.csv', index=False, mode='w', encoding='utf-8-sig')"
   ]
  },
  {
   "cell_type": "markdown",
   "metadata": {},
   "source": [
    "#### 특정 연도와 달의 최고, 최저 기온 평균값 계산\n",
    "• 해당 연도와 달의 DataFrame 가져오기\n",
    "\n",
    "• datetime 객체 접근\n",
    "    – dt.year,\tdt.month,\tdt.day"
   ]
  },
  {
   "cell_type": "code",
   "execution_count": 10,
   "metadata": {},
   "outputs": [
    {
     "name": "stdout",
     "output_type": "stream",
     "text": [
      "특정 연도와 달의 최고, 최저 기온 평균값 계산\n",
      "            날짜     지점  평균기온  최저기온  최고기온\n",
      "913 1909-08-01  143.0  25.2  22.9  28.3\n",
      "914 1909-08-02  143.0  25.1  23.8  27.8\n",
      "915 1909-08-03  143.0  25.6  24.4  29.1\n",
      "916 1909-08-04  143.0  28.2  24.8  34.1\n",
      "917 1909-08-05  143.0  27.0  23.2  32.8\n"
     ]
    }
   ],
   "source": [
    "print('특정 연도와 달의 최고, 최저 기온 평균값 계산')\n",
    "\n",
    "year_df= weather_df[weather_df['날짜'].dt.year==2023]\n",
    "month_df=weather_df[weather_df['날짜'].dt.month==8]\n",
    "print(month_df.head())"
   ]
  },
  {
   "cell_type": "code",
   "execution_count": 11,
   "metadata": {},
   "outputs": [
    {
     "name": "stdout",
     "output_type": "stream",
     "text": [
      "2023년 8월 최저기온 평균: 22.4, 최고기온 평균: 31.2\n"
     ]
    }
   ],
   "source": [
    "max_temp_mean=round(month_df['최고기온'].mean(),1)\n",
    "min_temp_mean=round(month_df['최저기온'].mean(),1)\n",
    "\n",
    "print(f'2023년 8월 최저기온 평균: {min_temp_mean}, 최고기온 평균: {max_temp_mean}')"
   ]
  },
  {
   "cell_type": "markdown",
   "metadata": {},
   "source": [
    "#### 1990년대와 2010년대 최고 기온 비교 #1\n",
    "§ 1990년대 특정 월의 기온 및 2010년대 특정 월의 최고 기온 변화\n",
    "\n",
    "• 사용 데이터:\tdaegu-utf8-df.csv 사용\n",
    "\n",
    "• 결과를 두 개의 선 그래프(plot)로 비교"
   ]
  },
  {
   "cell_type": "code",
   "execution_count": 12,
   "metadata": {},
   "outputs": [],
   "source": [
    "def draw_two_plots(title, x_data, max_temp_list1, label_y1, max_temp_list2, label_y2):\n",
    "\n",
    "    plt.rcParams['axes.unicode_minus']=False\n",
    "    plt.figure(figsize=(10,4))\n",
    "    plt.plot(x_data, max_temp_list1, marker='s', markersize=6, color='b', label=label_y1)\n",
    "    plt.plot(x_data, max_temp_list2, marker='s', markersize=6, color='r', label=label_y2)\n",
    "    plt.xticks(x_data)  # 모든 xtick값을 출력함\n",
    "\n",
    "    # plt.ylim(10,40)\n",
    "    plt.title(title)\n",
    "    plt.legend()\n",
    "    plt.show()\n",
    "\n",
    "def main():\n",
    "    search_month=int(input('비교할 월을 입력하세요: ')) \n",
    "\n",
    "    weather_df=pd.read_csv('daegu-utf-8.csv', encoding='utf-8-sig')\n",
    "    weather_df['날짜']=pd.to_datetime(weather_df['날짜'], format='%Y-%m-%d')\n",
    "\n",
    "    first_decade_max_temp_list=[0]*10   # 10년동안 각 월의 평균 저장\n",
    "    second_decade_max_temp_list=[0]*10\n",
    "\n",
    "    first_decade=1990\n",
    "    second_decade=2010\n",
    "\n",
    "    for year in range(10):\n",
    "        first_decade_df=weather_df[(weather_df['날짜'].dt.year==first_decade+year)& (weather_df['날짜'].dt.month==search_month)]\n",
    "        first_decade_max_temp_list[year]=round(first_decade_df['최고기온'].mean(),1)\n",
    "        second_decade_df=weather_df[(weather_df['날짜'].dt.year==second_decade+year)& (weather_df['날짜'].dt.month==search_month)]\n",
    "        second_decade_max_temp_list[year]=round(second_decade_df['최고기온'].mean(),1)\n",
    "\n",
    "        "
   ]
  },
  {
   "cell_type": "code",
   "execution_count": null,
   "metadata": {},
   "outputs": [],
   "source": []
  }
 ],
 "metadata": {
  "kernelspec": {
   "display_name": "PY_39",
   "language": "python",
   "name": "python3"
  },
  "language_info": {
   "codemirror_mode": {
    "name": "ipython",
    "version": 3
   },
   "file_extension": ".py",
   "mimetype": "text/x-python",
   "name": "python",
   "nbconvert_exporter": "python",
   "pygments_lexer": "ipython3",
   "version": "3.9.19"
  }
 },
 "nbformat": 4,
 "nbformat_minor": 2
}
