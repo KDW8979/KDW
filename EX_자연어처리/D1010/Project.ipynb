{
 "cells": [
  {
   "cell_type": "code",
   "execution_count": 34,
   "metadata": {},
   "outputs": [],
   "source": [
    "from selenium import webdriver\n",
    "import selenium\n",
    "import time\n",
    "from openpyxl import Workbook\n",
    "import pandas as pd\n",
    "from selenium.webdriver.common.keys import Keys\n",
    "from selenium.webdriver.chrome.service import Service\n",
    "from bs4 import BeautifulSoup\n",
    "from selenium.webdriver.common.by import By\n",
    "\n",
    "import warnings\n",
    "warnings.filterwarnings('ignore')"
   ]
  },
  {
   "cell_type": "code",
   "execution_count": 35,
   "metadata": {},
   "outputs": [],
   "source": [
    "wb = Workbook(write_only=True)\n",
    "ws = wb.create_sheet()\n",
    "\n",
    "service = Service(executable_path=r\"C:\\Users\\kdp\\Desktop\\KDW\\EX_자연어처리\\D1010\\chromedriver-win64\\chromedriver.exe\")\n",
    "driver = webdriver.Chrome(service= service)\n",
    "driver.get(\"https://www.youtube.com/watch?v=9EsKLveY3Rc&list=PLOBbhydezQbcZ_XJahmfTgQi9GIRDeM2o&index=125\")\n",
    "driver.implicitly_wait(3)\n",
    "\n",
    "time.sleep(1.5)\n",
    "\n",
    "driver.execute_script('window.scrollTo(0,800)')\n",
    "time.sleep(3)"
   ]
  },
  {
   "cell_type": "code",
   "execution_count": 36,
   "metadata": {},
   "outputs": [],
   "source": [
    "last_height = driver.execute_script(\"return document.documentElement.scrollHeight\")\n",
    "\n",
    "while True:\n",
    "    driver.execute_script(\"window.scrollTo(0, document.documentElement.scrollHeight);\")\n",
    "    time.sleep(1.5)\n",
    "\n",
    "    new_height = driver.execute_script(\"return document.documentElement.scrollHeight\")\n",
    "    if new_height == last_height:\n",
    "        break\n",
    "    last_height = new_height\n",
    "\n",
    "time.sleep(1.5)"
   ]
  },
  {
   "cell_type": "code",
   "execution_count": 37,
   "metadata": {},
   "outputs": [],
   "source": [
    "try:\n",
    "    driver.find_element_by_css_selector(\"#dismiss-button > a\").click()\n",
    "except:\n",
    "    pass"
   ]
  },
  {
   "cell_type": "code",
   "execution_count": 38,
   "metadata": {},
   "outputs": [],
   "source": [
    "buttons = driver.find_elements(By.CSS_SELECTOR, \"#more-replies > a\")\n",
    "\n",
    "time.sleep(1.5)\n",
    "\n",
    "for button in buttons:\n",
    "    button.send_keys(Keys.ENTER)\n",
    "    time.sleep(1.5)\n",
    "    button.click()"
   ]
  },
  {
   "cell_type": "code",
   "execution_count": 39,
   "metadata": {},
   "outputs": [],
   "source": [
    "html_source = driver.page_source\n",
    "soup = BeautifulSoup(html_source, 'html.parser')\n",
    "\n",
    "\n",
    "comment_list = soup.select(\"yt-formatted-string#content-text\")\n",
    "\n",
    "\n",
    "comment_final = []\n",
    "\n",
    "for i in range(len(comment_list)):\n",
    "\n",
    "    temp_comment = comment_list[i].text\n",
    "    temp_comment = temp_comment.replace('\\n', '')\n",
    "    temp_comment = temp_comment.replace('\\t', '')\n",
    "    temp_comment = temp_comment.replace('    ', '')\n",
    "    comment_final.append(temp_comment) # 댓글 내용\n"
   ]
  },
  {
   "cell_type": "code",
   "execution_count": 40,
   "metadata": {},
   "outputs": [],
   "source": [
    "pd_data = {\"댓글 내용\" : comment_final}\n",
    "youtube_pd = pd.DataFrame(pd_data)\n",
    "\n",
    "youtube_pd.to_excel(r\"C:\\Users\\kdp\\Desktop\\KDW\\EX_자연어처리\\data\\무한도전\\무인도 특집.xlsx\")"
   ]
  }
 ],
 "metadata": {
  "kernelspec": {
   "display_name": "TORCH_TEXT",
   "language": "python",
   "name": "python3"
  },
  "language_info": {
   "codemirror_mode": {
    "name": "ipython",
    "version": 3
   },
   "file_extension": ".py",
   "mimetype": "text/x-python",
   "name": "python",
   "nbconvert_exporter": "python",
   "pygments_lexer": "ipython3",
   "version": "3.8.19"
  }
 },
 "nbformat": 4,
 "nbformat_minor": 2
}
