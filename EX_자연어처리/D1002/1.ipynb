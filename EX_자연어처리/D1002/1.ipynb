{
 "cells": [
  {
   "cell_type": "markdown",
   "metadata": {},
   "source": [
    "- 텍스트 데이터 ==> 말뭉치/코퍼스\n",
    "\n",
    "- 형태소 분리 ==> 토큰(문장,단어,문자)\n",
    "\n",
    "- 불필요한 토큰 제거 ==> 구두점 + 추가\n",
    "                    ==> 빈도 높은 의미 없는 토큰 (인칭대명사, 관사, 조사, ....)\n",
    "                    ==> 빈도 낮은 단어들 검사, 중요하지 않은 토큰 제거\n",
    "                    ==> 길이 짧은 토큰\n",
    "\n",
    "- 중복 토큰, 의미가 동일한 토큰 통합 제거 ==> 동일 부분 추출 어근(사전)\n",
    "\n",
    "- 텍스트 ==> 수치화 "
   ]
  },
  {
   "cell_type": "code",
   "execution_count": null,
   "metadata": {},
   "outputs": [],
   "source": []
  }
 ],
 "metadata": {
  "language_info": {
   "name": "python"
  }
 },
 "nbformat": 4,
 "nbformat_minor": 2
}
