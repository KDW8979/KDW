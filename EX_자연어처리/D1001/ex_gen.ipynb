{
 "cells": [
  {
   "cell_type": "markdown",
   "metadata": {},
   "source": [
    "#### Generator 살펴보기\n",
    "- 목적 : 메모리 효율적 사용을 위해서\n",
    "- 특징 : iterator로써 반복기능 포함\n",
    "- 문법 : yield키워드 함께 사용"
   ]
  },
  {
   "cell_type": "code",
   "execution_count": 1,
   "metadata": {},
   "outputs": [],
   "source": [
    "## 모듈 로딩\n",
    "import time"
   ]
  },
  {
   "cell_type": "code",
   "execution_count": 2,
   "metadata": {},
   "outputs": [],
   "source": [
    "## 사용자 정의 함수\n",
    "## 기능 : 데이터 값을 반환하는 기능\n",
    "## 이름 : returnData\n",
    "def returnData():\n",
    "    data=[]\n",
    "    for ch in ['피카츄', '꼬부기', '파이리', '이상해씨']:\n",
    "        data.append(ch)\n",
    "        time.sleep(1)\n",
    "\n",
    "    return data"
   ]
  },
  {
   "cell_type": "code",
   "execution_count": 4,
   "metadata": {},
   "outputs": [],
   "source": [
    "## 기능 : 데이터 값을 반환하는 기능\n",
    "## 이름 : yieldData\n",
    "def yieldData():\n",
    "    data=[]\n",
    "    for ch in ['피카츄', '꼬부기', '파이리', '이상해씨']:\n",
    "        data.append(ch)\n",
    "        time.sleep(1)\n",
    "        yield data\n",
    "    "
   ]
  },
  {
   "cell_type": "code",
   "execution_count": 9,
   "metadata": {},
   "outputs": [],
   "source": [
    "def yieldData2():\n",
    "    data=['피카츄', '꼬부기', '파이리', '이상해씨']\n",
    "    time.sleep(1)\n",
    "    yield from data"
   ]
  },
  {
   "cell_type": "code",
   "execution_count": 5,
   "metadata": {},
   "outputs": [
    {
     "data": {
      "text/plain": [
       "['피카츄', '꼬부기', '파이리', '이상해씨']"
      ]
     },
     "execution_count": 5,
     "metadata": {},
     "output_type": "execute_result"
    }
   ],
   "source": [
    "# 함수 호출\n",
    "returnData()"
   ]
  },
  {
   "cell_type": "code",
   "execution_count": 7,
   "metadata": {},
   "outputs": [
    {
     "name": "stdout",
     "output_type": "stream",
     "text": [
      "['피카츄']\n",
      "['피카츄', '꼬부기']\n",
      "['피카츄', '꼬부기', '파이리']\n",
      "['피카츄', '꼬부기', '파이리', '이상해씨']\n"
     ]
    }
   ],
   "source": [
    "for data in yieldData():\n",
    "    print(data)"
   ]
  },
  {
   "cell_type": "code",
   "execution_count": 10,
   "metadata": {},
   "outputs": [
    {
     "name": "stdout",
     "output_type": "stream",
     "text": [
      "피카츄\n",
      "꼬부기\n",
      "파이리\n",
      "이상해씨\n"
     ]
    }
   ],
   "source": [
    "for data in yieldData2():\n",
    "    print(data)"
   ]
  },
  {
   "cell_type": "code",
   "execution_count": 11,
   "metadata": {},
   "outputs": [],
   "source": [
    "import string"
   ]
  },
  {
   "cell_type": "code",
   "execution_count": 12,
   "metadata": {},
   "outputs": [
    {
     "data": {
      "text/plain": [
       "'!\"#$%&\\'()*+,-./:;<=>?@[\\\\]^_`{|}~'"
      ]
     },
     "execution_count": 12,
     "metadata": {},
     "output_type": "execute_result"
    }
   ],
   "source": [
    "string.punctuation"
   ]
  },
  {
   "cell_type": "code",
   "execution_count": null,
   "metadata": {},
   "outputs": [],
   "source": []
  }
 ],
 "metadata": {
  "kernelspec": {
   "display_name": "TORCH_TEXT",
   "language": "python",
   "name": "python3"
  },
  "language_info": {
   "codemirror_mode": {
    "name": "ipython",
    "version": 3
   },
   "file_extension": ".py",
   "mimetype": "text/x-python",
   "name": "python",
   "nbconvert_exporter": "python",
   "pygments_lexer": "ipython3",
   "version": "3.8.19"
  }
 },
 "nbformat": 4,
 "nbformat_minor": 2
}
